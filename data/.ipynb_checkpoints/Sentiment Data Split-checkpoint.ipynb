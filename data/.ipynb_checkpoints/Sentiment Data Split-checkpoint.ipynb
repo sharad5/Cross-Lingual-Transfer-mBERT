{
 "cells": [
  {
   "cell_type": "code",
   "execution_count": 18,
   "id": "2f8a495c",
   "metadata": {},
   "outputs": [],
   "source": [
    "import pandas as pd\n",
    "import numpy as np\n",
    "from sklearn.model_selection import train_test_split"
   ]
  },
  {
   "cell_type": "markdown",
   "id": "407dda63",
   "metadata": {},
   "source": [
    "# Turkish Split"
   ]
  },
  {
   "cell_type": "code",
   "execution_count": 21,
   "id": "f641dbc5",
   "metadata": {},
   "outputs": [],
   "source": [
    "turkish_df = pd.read_csv(\"sentiment/raw/TurkishTweets.csv\", encoding = \"ISO-8859-1\")"
   ]
  },
  {
   "cell_type": "code",
   "execution_count": 22,
   "id": "54c3c4f8",
   "metadata": {},
   "outputs": [],
   "source": [
    "turkish_df.columns = [\"Label\", \"Tweets\", \"1\", \"2\", \"3\", \"4\"]\n",
    "turkish_df = turkish_df[[\"Label\", \"Tweets\"]]"
   ]
  },
  {
   "cell_type": "code",
   "execution_count": 23,
   "id": "54633c86",
   "metadata": {},
   "outputs": [],
   "source": [
    "turkish_df.loc[turkish_df[\"Label\"] == \"Negatif\", \"Label\"] = \"Negative\"\n",
    "turkish_df.loc[turkish_df[\"Label\"] == \" Negatif\", \"Label\"] = \"Negative\"\n",
    "turkish_df.loc[turkish_df[\"Label\"] == \"Pozitif\", \"Label\"] = \"Positive\""
   ]
  },
  {
   "cell_type": "code",
   "execution_count": 24,
   "id": "9eef4166",
   "metadata": {
    "scrolled": false
   },
   "outputs": [
    {
     "data": {
      "text/html": [
       "<div>\n",
       "<style scoped>\n",
       "    .dataframe tbody tr th:only-of-type {\n",
       "        vertical-align: middle;\n",
       "    }\n",
       "\n",
       "    .dataframe tbody tr th {\n",
       "        vertical-align: top;\n",
       "    }\n",
       "\n",
       "    .dataframe thead th {\n",
       "        text-align: right;\n",
       "    }\n",
       "</style>\n",
       "<table border=\"1\" class=\"dataframe\">\n",
       "  <thead>\n",
       "    <tr style=\"text-align: right;\">\n",
       "      <th></th>\n",
       "      <th>Label</th>\n",
       "      <th>Tweets</th>\n",
       "    </tr>\n",
       "  </thead>\n",
       "  <tbody>\n",
       "    <tr>\n",
       "      <th>0</th>\n",
       "      <td>Negative</td>\n",
       "      <td>Doða aðzýmýza sýçsa hakký var</td>\n",
       "    </tr>\n",
       "    <tr>\n",
       "      <th>1</th>\n",
       "      <td>Positive</td>\n",
       "      <td>Anne bir sanatçýdýr, en güzel eseri de yavrusu...</td>\n",
       "    </tr>\n",
       "    <tr>\n",
       "      <th>2</th>\n",
       "      <td>Negative</td>\n",
       "      <td>ibrahimin oðlunu koruyan Tanrýya da ben sokayým</td>\n",
       "    </tr>\n",
       "    <tr>\n",
       "      <th>3</th>\n",
       "      <td>Negative</td>\n",
       "      <td>Köpeðim suratýna sýçsýn senin namussuz karý</td>\n",
       "    </tr>\n",
       "    <tr>\n",
       "      <th>4</th>\n",
       "      <td>Negative</td>\n",
       "      <td>Ben söðüþledim, birazda sen söðüþle</td>\n",
       "    </tr>\n",
       "    <tr>\n",
       "      <th>...</th>\n",
       "      <td>...</td>\n",
       "      <td>...</td>\n",
       "    </tr>\n",
       "    <tr>\n",
       "      <th>11106</th>\n",
       "      <td>Negative</td>\n",
       "      <td>eðer gidip bir aynaya bakarsanýz orada en büyü...</td>\n",
       "    </tr>\n",
       "    <tr>\n",
       "      <th>11107</th>\n",
       "      <td>Negative</td>\n",
       "      <td>Asýl fahiþe senin beynin</td>\n",
       "    </tr>\n",
       "    <tr>\n",
       "      <th>11108</th>\n",
       "      <td>Negative</td>\n",
       "      <td>Sorsak bir numaralý müslümandýr sýfatsýz herif</td>\n",
       "    </tr>\n",
       "    <tr>\n",
       "      <th>11109</th>\n",
       "      <td>Negative</td>\n",
       "      <td>surata bak lenetlenmiþ oç</td>\n",
       "    </tr>\n",
       "    <tr>\n",
       "      <th>11110</th>\n",
       "      <td>Negative</td>\n",
       "      <td>Allah ýn din tüccarlarý sizi. Bir insana ifti...</td>\n",
       "    </tr>\n",
       "  </tbody>\n",
       "</table>\n",
       "<p>11111 rows × 2 columns</p>\n",
       "</div>"
      ],
      "text/plain": [
       "          Label                                             Tweets\n",
       "0      Negative                      Doða aðzýmýza sýçsa hakký var\n",
       "1      Positive  Anne bir sanatçýdýr, en güzel eseri de yavrusu...\n",
       "2      Negative   ibrahimin oðlunu koruyan Tanrýya da ben sokayým\n",
       "3      Negative        Köpeðim suratýna sýçsýn senin namussuz karý\n",
       "4      Negative                Ben söðüþledim, birazda sen söðüþle\n",
       "...         ...                                                ...\n",
       "11106  Negative  eðer gidip bir aynaya bakarsanýz orada en büyü...\n",
       "11107  Negative                           Asýl fahiþe senin beynin\n",
       "11108  Negative     Sorsak bir numaralý müslümandýr sýfatsýz herif\n",
       "11109  Negative                          surata bak lenetlenmiþ oç\n",
       "11110  Negative  Allah ýn din tüccarlarý sizi. Bir insana ifti...\n",
       "\n",
       "[11111 rows x 2 columns]"
      ]
     },
     "execution_count": 24,
     "metadata": {},
     "output_type": "execute_result"
    }
   ],
   "source": [
    "turkish_df"
   ]
  },
  {
   "cell_type": "code",
   "execution_count": 25,
   "id": "78b0a452",
   "metadata": {},
   "outputs": [
    {
     "name": "stdout",
     "output_type": "stream",
     "text": [
      "{'Positive': 6111, 'Negative': 5000}\n"
     ]
    }
   ],
   "source": [
    "# Counts for each class\n",
    "print(turkish_df[\"Label\"].value_counts().to_dict())"
   ]
  },
  {
   "cell_type": "markdown",
   "id": "19367ff6",
   "metadata": {},
   "source": [
    "## Split Data"
   ]
  },
  {
   "cell_type": "code",
   "execution_count": 27,
   "id": "e894dafa",
   "metadata": {},
   "outputs": [],
   "source": [
    "train_df, temp_df = train_test_split(turkish_df, test_size=0.2, random_state=14, stratify=turkish_df[\"Label\"])\n",
    "test_df, val_df = train_test_split(temp_df, test_size=0.5, random_state=14, stratify=temp_df[\"Label\"])"
   ]
  },
  {
   "cell_type": "code",
   "execution_count": 28,
   "id": "e023868c",
   "metadata": {},
   "outputs": [
    {
     "data": {
      "text/plain": [
       "(8888, 1111, 1112)"
      ]
     },
     "execution_count": 28,
     "metadata": {},
     "output_type": "execute_result"
    }
   ],
   "source": [
    "len_train = len(train_df)\n",
    "len_test = len(test_df)\n",
    "len_val = len(val_df)\n",
    "\n",
    "(len_train, len_test, len_val)"
   ]
  },
  {
   "cell_type": "code",
   "execution_count": 30,
   "id": "8b67fd39",
   "metadata": {},
   "outputs": [
    {
     "name": "stdout",
     "output_type": "stream",
     "text": [
      "{'Positive': 4888, 'Negative': 4000}\n",
      "{'Positive': 612, 'Negative': 500}\n",
      "{'Positive': 611, 'Negative': 500}\n"
     ]
    }
   ],
   "source": [
    "# Counts for each class\n",
    "print(train_df[\"Label\"].value_counts().to_dict())\n",
    "print(val_df[\"Label\"].value_counts().to_dict())\n",
    "print(test_df[\"Label\"].value_counts().to_dict())"
   ]
  },
  {
   "cell_type": "code",
   "execution_count": 32,
   "id": "a2d4c6c6",
   "metadata": {},
   "outputs": [],
   "source": [
    "train_df.to_csv(\"sentiment/splits/train.csv\", index=False)\n",
    "test_df.to_csv(\"sentiment/splits/test.csv\", index=False)\n",
    "val_df.to_csv(\"sentiment/splits/val.csv\", index=False)"
   ]
  },
  {
   "cell_type": "code",
   "execution_count": null,
   "id": "5a1e92aa",
   "metadata": {},
   "outputs": [],
   "source": []
  }
 ],
 "metadata": {
  "kernelspec": {
   "display_name": "Python 3 (ipykernel - env)",
   "language": "python",
   "name": "python3"
  },
  "language_info": {
   "codemirror_mode": {
    "name": "ipython",
    "version": 3
   },
   "file_extension": ".py",
   "mimetype": "text/x-python",
   "name": "python",
   "nbconvert_exporter": "python",
   "pygments_lexer": "ipython3",
   "version": "3.10.14"
  }
 },
 "nbformat": 4,
 "nbformat_minor": 5
}
