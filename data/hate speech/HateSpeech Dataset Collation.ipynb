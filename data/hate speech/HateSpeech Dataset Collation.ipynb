{
 "cells": [
  {
   "cell_type": "code",
   "execution_count": 1,
   "id": "9033cbc3",
   "metadata": {},
   "outputs": [],
   "source": [
    "import pandas as pd\n",
    "import numpy as np"
   ]
  },
  {
   "cell_type": "markdown",
   "id": "8115ebf8",
   "metadata": {},
   "source": [
    "## English Dataset"
   ]
  },
  {
   "cell_type": "code",
   "execution_count": 2,
   "id": "207b7655",
   "metadata": {},
   "outputs": [],
   "source": [
    "eng1_df = pd.read_csv(\"scraped_tweets_eng_part_1.csv\")\n",
    "eng2_df = pd.read_csv(\"scraped_tweets_eng_part2.csv\")"
   ]
  },
  {
   "cell_type": "code",
   "execution_count": 3,
   "id": "c36c582c",
   "metadata": {},
   "outputs": [
    {
     "data": {
      "text/plain": [
       "0.32805460750853244"
      ]
     },
     "execution_count": 3,
     "metadata": {},
     "output_type": "execute_result"
    }
   ],
   "source": [
    "1-eng1_df[~eng1_df[\"tweet_text\"].isna()].shape[0]/eng1_df.shape[0]"
   ]
  },
  {
   "cell_type": "code",
   "execution_count": 4,
   "id": "f1615375",
   "metadata": {},
   "outputs": [
    {
     "data": {
      "text/plain": [
       "0.26206666666666667"
      ]
     },
     "execution_count": 4,
     "metadata": {},
     "output_type": "execute_result"
    }
   ],
   "source": [
    "1-eng2_df[~eng2_df[\"tweet_text\"].isna()].shape[0]/eng2_df.shape[0]"
   ]
  },
  {
   "cell_type": "code",
   "execution_count": 37,
   "id": "6968434d",
   "metadata": {},
   "outputs": [],
   "source": [
    "eng_df = pd.concat([eng1_df[~eng1_df[\"tweet_text\"].isna()], eng2_df[~eng2_df[\"tweet_text\"].isna()]]).reset_index(drop=True)"
   ]
  },
  {
   "cell_type": "code",
   "execution_count": 38,
   "id": "e05225bf",
   "metadata": {},
   "outputs": [
    {
     "data": {
      "text/html": [
       "<div>\n",
       "<style scoped>\n",
       "    .dataframe tbody tr th:only-of-type {\n",
       "        vertical-align: middle;\n",
       "    }\n",
       "\n",
       "    .dataframe tbody tr th {\n",
       "        vertical-align: top;\n",
       "    }\n",
       "\n",
       "    .dataframe thead th {\n",
       "        text-align: right;\n",
       "    }\n",
       "</style>\n",
       "<table border=\"1\" class=\"dataframe\">\n",
       "  <thead>\n",
       "    <tr style=\"text-align: right;\">\n",
       "      <th></th>\n",
       "      <th>TweetID</th>\n",
       "      <th>LangID</th>\n",
       "      <th>TopicID</th>\n",
       "      <th>tweet_text</th>\n",
       "    </tr>\n",
       "    <tr>\n",
       "      <th>HateLabel</th>\n",
       "      <th></th>\n",
       "      <th></th>\n",
       "      <th></th>\n",
       "      <th></th>\n",
       "    </tr>\n",
       "  </thead>\n",
       "  <tbody>\n",
       "    <tr>\n",
       "      <th>0.0</th>\n",
       "      <td>11069</td>\n",
       "      <td>11069</td>\n",
       "      <td>11069</td>\n",
       "      <td>11069</td>\n",
       "    </tr>\n",
       "    <tr>\n",
       "      <th>2.0</th>\n",
       "      <td>4922</td>\n",
       "      <td>4922</td>\n",
       "      <td>4922</td>\n",
       "      <td>4922</td>\n",
       "    </tr>\n",
       "  </tbody>\n",
       "</table>\n",
       "</div>"
      ],
      "text/plain": [
       "           TweetID  LangID  TopicID  tweet_text\n",
       "HateLabel                                      \n",
       "0.0          11069   11069    11069       11069\n",
       "2.0           4922    4922     4922        4922"
      ]
     },
     "execution_count": 38,
     "metadata": {},
     "output_type": "execute_result"
    }
   ],
   "source": [
    "eng_df.groupby(\"HateLabel\").count()"
   ]
  },
  {
   "cell_type": "code",
   "execution_count": 49,
   "id": "7b770884",
   "metadata": {},
   "outputs": [
    {
     "data": {
      "text/html": [
       "<div>\n",
       "<style scoped>\n",
       "    .dataframe tbody tr th:only-of-type {\n",
       "        vertical-align: middle;\n",
       "    }\n",
       "\n",
       "    .dataframe tbody tr th {\n",
       "        vertical-align: top;\n",
       "    }\n",
       "\n",
       "    .dataframe thead th {\n",
       "        text-align: right;\n",
       "    }\n",
       "</style>\n",
       "<table border=\"1\" class=\"dataframe\">\n",
       "  <thead>\n",
       "    <tr style=\"text-align: right;\">\n",
       "      <th></th>\n",
       "      <th>TweetID</th>\n",
       "      <th>LangID</th>\n",
       "      <th>HateLabel</th>\n",
       "      <th>tweet_text</th>\n",
       "    </tr>\n",
       "    <tr>\n",
       "      <th>TopicID</th>\n",
       "      <th></th>\n",
       "      <th></th>\n",
       "      <th></th>\n",
       "      <th></th>\n",
       "    </tr>\n",
       "  </thead>\n",
       "  <tbody>\n",
       "    <tr>\n",
       "      <th>0.0</th>\n",
       "      <td>1054</td>\n",
       "      <td>1054</td>\n",
       "      <td>1054</td>\n",
       "      <td>1054</td>\n",
       "    </tr>\n",
       "    <tr>\n",
       "      <th>1.0</th>\n",
       "      <td>7509</td>\n",
       "      <td>7509</td>\n",
       "      <td>7509</td>\n",
       "      <td>7509</td>\n",
       "    </tr>\n",
       "    <tr>\n",
       "      <th>2.0</th>\n",
       "      <td>1199</td>\n",
       "      <td>1199</td>\n",
       "      <td>1199</td>\n",
       "      <td>1199</td>\n",
       "    </tr>\n",
       "    <tr>\n",
       "      <th>3.0</th>\n",
       "      <td>5175</td>\n",
       "      <td>5175</td>\n",
       "      <td>5175</td>\n",
       "      <td>5175</td>\n",
       "    </tr>\n",
       "    <tr>\n",
       "      <th>4.0</th>\n",
       "      <td>1054</td>\n",
       "      <td>1054</td>\n",
       "      <td>1054</td>\n",
       "      <td>1054</td>\n",
       "    </tr>\n",
       "  </tbody>\n",
       "</table>\n",
       "</div>"
      ],
      "text/plain": [
       "         TweetID  LangID  HateLabel  tweet_text\n",
       "TopicID                                        \n",
       "0.0         1054    1054       1054        1054\n",
       "1.0         7509    7509       7509        7509\n",
       "2.0         1199    1199       1199        1199\n",
       "3.0         5175    5175       5175        5175\n",
       "4.0         1054    1054       1054        1054"
      ]
     },
     "execution_count": 49,
     "metadata": {},
     "output_type": "execute_result"
    }
   ],
   "source": [
    "eng_df.groupby(\"TopicID\").count()"
   ]
  },
  {
   "cell_type": "code",
   "execution_count": 39,
   "id": "136237b2",
   "metadata": {},
   "outputs": [
    {
     "name": "stderr",
     "output_type": "stream",
     "text": [
      "/var/folders/6v/12r4qnjx54zgmfy66mv7j0rr0000gn/T/ipykernel_85838/1164941403.py:1: FutureWarning: The default value of regex will change from True to False in a future version.\n",
      "  eng_df[\"tweet_text\"] = eng_df[\"tweet_text\"].str.replace(r'https\\S+', '', case=False)\n",
      "/var/folders/6v/12r4qnjx54zgmfy66mv7j0rr0000gn/T/ipykernel_85838/1164941403.py:2: FutureWarning: The default value of regex will change from True to False in a future version.\n",
      "  eng_df[\"tweet_text\"] = eng_df[\"tweet_text\"].str.replace(r'@\\w+', '', case=False)\n"
     ]
    }
   ],
   "source": [
    "eng_df[\"tweet_text\"] = eng_df[\"tweet_text\"].str.replace(r'https\\S+', '', case=False)\n",
    "eng_df[\"tweet_text\"] = eng_df[\"tweet_text\"].str.replace(r'@\\w+', '', case=False)\n",
    "eng_df[\"tweet_text\"] = eng_df[\"tweet_text\"].str.strip()"
   ]
  },
  {
   "cell_type": "code",
   "execution_count": 41,
   "id": "a0bc00d7",
   "metadata": {},
   "outputs": [],
   "source": [
    "eng_df.to_csv(\"english_hatespeech_final_dataset.csv\", index=False)"
   ]
  },
  {
   "cell_type": "markdown",
   "id": "b221b3b1",
   "metadata": {},
   "source": [
    "## Turkish Dataset"
   ]
  },
  {
   "cell_type": "code",
   "execution_count": 42,
   "id": "e4bda25c",
   "metadata": {},
   "outputs": [],
   "source": [
    "tr1_df = pd.read_csv(\"scraped_tweets_turkish_part1.csv\")\n",
    "tr2_df = pd.read_csv(\"scraped_tweets_turkish_2.csv\")"
   ]
  },
  {
   "cell_type": "code",
   "execution_count": 43,
   "id": "08f13dc9",
   "metadata": {},
   "outputs": [
    {
     "data": {
      "text/plain": [
       "0.3388971219093675"
      ]
     },
     "execution_count": 43,
     "metadata": {},
     "output_type": "execute_result"
    }
   ],
   "source": [
    "1-tr1_df[~tr1_df[\"tweet_text\"].isna()].shape[0]/tr1_df.shape[0]"
   ]
  },
  {
   "cell_type": "code",
   "execution_count": 44,
   "id": "89b9aee6",
   "metadata": {},
   "outputs": [
    {
     "data": {
      "text/plain": [
       "0.24576866079089"
      ]
     },
     "execution_count": 44,
     "metadata": {},
     "output_type": "execute_result"
    }
   ],
   "source": [
    "1-tr2_df[~tr2_df[\"tweet_text\"].isna()].shape[0]/tr2_df.shape[0]"
   ]
  },
  {
   "cell_type": "code",
   "execution_count": 45,
   "id": "3c054062",
   "metadata": {},
   "outputs": [],
   "source": [
    "tr_df = pd.concat([tr1_df[~tr1_df[\"tweet_text\"].isna()], tr2_df[~tr2_df[\"tweet_text\"].isna()]]).reset_index(drop=True)"
   ]
  },
  {
   "cell_type": "code",
   "execution_count": 46,
   "id": "7a252cd5",
   "metadata": {},
   "outputs": [
    {
     "data": {
      "text/html": [
       "<div>\n",
       "<style scoped>\n",
       "    .dataframe tbody tr th:only-of-type {\n",
       "        vertical-align: middle;\n",
       "    }\n",
       "\n",
       "    .dataframe tbody tr th {\n",
       "        vertical-align: top;\n",
       "    }\n",
       "\n",
       "    .dataframe thead th {\n",
       "        text-align: right;\n",
       "    }\n",
       "</style>\n",
       "<table border=\"1\" class=\"dataframe\">\n",
       "  <thead>\n",
       "    <tr style=\"text-align: right;\">\n",
       "      <th></th>\n",
       "      <th>TweetID</th>\n",
       "      <th>LangID</th>\n",
       "      <th>TopicID</th>\n",
       "      <th>tweet_text</th>\n",
       "    </tr>\n",
       "    <tr>\n",
       "      <th>HateLabel</th>\n",
       "      <th></th>\n",
       "      <th></th>\n",
       "      <th></th>\n",
       "      <th></th>\n",
       "    </tr>\n",
       "  </thead>\n",
       "  <tbody>\n",
       "    <tr>\n",
       "      <th>0</th>\n",
       "      <td>9670</td>\n",
       "      <td>9670</td>\n",
       "      <td>9670</td>\n",
       "      <td>9670</td>\n",
       "    </tr>\n",
       "    <tr>\n",
       "      <th>2</th>\n",
       "      <td>8476</td>\n",
       "      <td>8476</td>\n",
       "      <td>8476</td>\n",
       "      <td>8476</td>\n",
       "    </tr>\n",
       "  </tbody>\n",
       "</table>\n",
       "</div>"
      ],
      "text/plain": [
       "           TweetID  LangID  TopicID  tweet_text\n",
       "HateLabel                                      \n",
       "0             9670    9670     9670        9670\n",
       "2             8476    8476     8476        8476"
      ]
     },
     "execution_count": 46,
     "metadata": {},
     "output_type": "execute_result"
    }
   ],
   "source": [
    "tr_df.groupby(\"HateLabel\").count()"
   ]
  },
  {
   "cell_type": "code",
   "execution_count": 50,
   "id": "c7901dbc",
   "metadata": {},
   "outputs": [
    {
     "data": {
      "text/html": [
       "<div>\n",
       "<style scoped>\n",
       "    .dataframe tbody tr th:only-of-type {\n",
       "        vertical-align: middle;\n",
       "    }\n",
       "\n",
       "    .dataframe tbody tr th {\n",
       "        vertical-align: top;\n",
       "    }\n",
       "\n",
       "    .dataframe thead th {\n",
       "        text-align: right;\n",
       "    }\n",
       "</style>\n",
       "<table border=\"1\" class=\"dataframe\">\n",
       "  <thead>\n",
       "    <tr style=\"text-align: right;\">\n",
       "      <th></th>\n",
       "      <th>TweetID</th>\n",
       "      <th>LangID</th>\n",
       "      <th>HateLabel</th>\n",
       "      <th>tweet_text</th>\n",
       "    </tr>\n",
       "    <tr>\n",
       "      <th>TopicID</th>\n",
       "      <th></th>\n",
       "      <th></th>\n",
       "      <th></th>\n",
       "      <th></th>\n",
       "    </tr>\n",
       "  </thead>\n",
       "  <tbody>\n",
       "    <tr>\n",
       "      <th>0</th>\n",
       "      <td>3121</td>\n",
       "      <td>3121</td>\n",
       "      <td>3121</td>\n",
       "      <td>3121</td>\n",
       "    </tr>\n",
       "    <tr>\n",
       "      <th>1</th>\n",
       "      <td>3020</td>\n",
       "      <td>3020</td>\n",
       "      <td>3020</td>\n",
       "      <td>3020</td>\n",
       "    </tr>\n",
       "    <tr>\n",
       "      <th>2</th>\n",
       "      <td>3703</td>\n",
       "      <td>3703</td>\n",
       "      <td>3703</td>\n",
       "      <td>3703</td>\n",
       "    </tr>\n",
       "    <tr>\n",
       "      <th>3</th>\n",
       "      <td>4330</td>\n",
       "      <td>4330</td>\n",
       "      <td>4330</td>\n",
       "      <td>4330</td>\n",
       "    </tr>\n",
       "    <tr>\n",
       "      <th>4</th>\n",
       "      <td>3972</td>\n",
       "      <td>3972</td>\n",
       "      <td>3972</td>\n",
       "      <td>3972</td>\n",
       "    </tr>\n",
       "  </tbody>\n",
       "</table>\n",
       "</div>"
      ],
      "text/plain": [
       "         TweetID  LangID  HateLabel  tweet_text\n",
       "TopicID                                        \n",
       "0           3121    3121       3121        3121\n",
       "1           3020    3020       3020        3020\n",
       "2           3703    3703       3703        3703\n",
       "3           4330    4330       4330        4330\n",
       "4           3972    3972       3972        3972"
      ]
     },
     "execution_count": 50,
     "metadata": {},
     "output_type": "execute_result"
    }
   ],
   "source": [
    "tr_df.groupby(\"TopicID\").count()"
   ]
  },
  {
   "cell_type": "code",
   "execution_count": 47,
   "id": "6e0ae429",
   "metadata": {
    "scrolled": true
   },
   "outputs": [
    {
     "name": "stderr",
     "output_type": "stream",
     "text": [
      "/var/folders/6v/12r4qnjx54zgmfy66mv7j0rr0000gn/T/ipykernel_85838/675643940.py:1: FutureWarning: The default value of regex will change from True to False in a future version.\n",
      "  tr_df[\"tweet_text\"] = tr_df[\"tweet_text\"].str.replace(r'https\\S+', '', case=False)\n",
      "/var/folders/6v/12r4qnjx54zgmfy66mv7j0rr0000gn/T/ipykernel_85838/675643940.py:2: FutureWarning: The default value of regex will change from True to False in a future version.\n",
      "  tr_df[\"tweet_text\"] = tr_df[\"tweet_text\"].str.replace(r'@\\w+', '', case=False)\n"
     ]
    }
   ],
   "source": [
    "tr_df[\"tweet_text\"] = tr_df[\"tweet_text\"].str.replace(r'https\\S+', '', case=False)\n",
    "tr_df[\"tweet_text\"] = tr_df[\"tweet_text\"].str.replace(r'@\\w+', '', case=False)\n",
    "tr_df[\"tweet_text\"] = tr_df[\"tweet_text\"].str.strip()"
   ]
  },
  {
   "cell_type": "code",
   "execution_count": 48,
   "id": "3e1b3f6a",
   "metadata": {},
   "outputs": [],
   "source": [
    "tr_df.to_csv(\"turkish_hatespeech_final_dataset.csv\", index=False)"
   ]
  },
  {
   "cell_type": "code",
   "execution_count": null,
   "id": "1c83a530",
   "metadata": {},
   "outputs": [],
   "source": []
  }
 ],
 "metadata": {
  "kernelspec": {
   "display_name": "conda-env",
   "language": "python",
   "name": "conda-env"
  },
  "language_info": {
   "codemirror_mode": {
    "name": "ipython",
    "version": 3
   },
   "file_extension": ".py",
   "mimetype": "text/x-python",
   "name": "python",
   "nbconvert_exporter": "python",
   "pygments_lexer": "ipython3",
   "version": "3.10.5"
  }
 },
 "nbformat": 4,
 "nbformat_minor": 5
}
