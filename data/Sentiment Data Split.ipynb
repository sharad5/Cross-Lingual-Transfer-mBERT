{
 "cells": [
  {
   "cell_type": "code",
   "execution_count": 18,
   "id": "ef7cfaab",
   "metadata": {},
   "outputs": [],
   "source": [
    "import pandas as pd\n",
    "import numpy as np\n",
    "from sklearn.model_selection import train_test_split"
   ]
  },
  {
   "cell_type": "markdown",
   "id": "bd4a52de",
   "metadata": {},
   "source": [
    "# Turkish Split"
   ]
  },
  {
   "cell_type": "code",
   "execution_count": 51,
   "id": "11d6c7cd",
   "metadata": {},
   "outputs": [],
   "source": [
    "turkish_df = pd.read_csv(\"sentiment/raw/TurkishTweets.csv\", encoding = \"ISO-8859-1\")"
   ]
  },
  {
   "cell_type": "code",
   "execution_count": 52,
   "id": "d575bbd1",
   "metadata": {},
   "outputs": [],
   "source": [
    "turkish_df.columns = [\"Label\", \"Tweets\", \"1\", \"2\", \"3\", \"4\"]\n",
    "turkish_df = turkish_df[[\"Label\", \"Tweets\"]]"
   ]
  },
  {
   "cell_type": "code",
   "execution_count": 53,
   "id": "6a9511da",
   "metadata": {},
   "outputs": [],
   "source": [
    "turkish_df.loc[turkish_df[\"Label\"] == \"Negatif\", \"Label\"] = \"Negative\"\n",
    "turkish_df.loc[turkish_df[\"Label\"] == \" Negatif\", \"Label\"] = \"Negative\"\n",
    "turkish_df.loc[turkish_df[\"Label\"] == \"Pozitif\", \"Label\"] = \"Positive\""
   ]
  },
  {
   "cell_type": "code",
   "execution_count": 54,
   "id": "fb91272f",
   "metadata": {
    "scrolled": false
   },
   "outputs": [
    {
     "data": {
      "text/html": [
       "<div>\n",
       "<style scoped>\n",
       "    .dataframe tbody tr th:only-of-type {\n",
       "        vertical-align: middle;\n",
       "    }\n",
       "\n",
       "    .dataframe tbody tr th {\n",
       "        vertical-align: top;\n",
       "    }\n",
       "\n",
       "    .dataframe thead th {\n",
       "        text-align: right;\n",
       "    }\n",
       "</style>\n",
       "<table border=\"1\" class=\"dataframe\">\n",
       "  <thead>\n",
       "    <tr style=\"text-align: right;\">\n",
       "      <th></th>\n",
       "      <th>Label</th>\n",
       "      <th>Tweets</th>\n",
       "    </tr>\n",
       "  </thead>\n",
       "  <tbody>\n",
       "    <tr>\n",
       "      <th>0</th>\n",
       "      <td>Negative</td>\n",
       "      <td>Doða aðzýmýza sýçsa hakký var</td>\n",
       "    </tr>\n",
       "    <tr>\n",
       "      <th>1</th>\n",
       "      <td>Positive</td>\n",
       "      <td>Anne bir sanatçýdýr, en güzel eseri de yavrusu...</td>\n",
       "    </tr>\n",
       "    <tr>\n",
       "      <th>2</th>\n",
       "      <td>Negative</td>\n",
       "      <td>ibrahimin oðlunu koruyan Tanrýya da ben sokayým</td>\n",
       "    </tr>\n",
       "    <tr>\n",
       "      <th>3</th>\n",
       "      <td>Negative</td>\n",
       "      <td>Köpeðim suratýna sýçsýn senin namussuz karý</td>\n",
       "    </tr>\n",
       "    <tr>\n",
       "      <th>4</th>\n",
       "      <td>Negative</td>\n",
       "      <td>Ben söðüþledim, birazda sen söðüþle</td>\n",
       "    </tr>\n",
       "    <tr>\n",
       "      <th>...</th>\n",
       "      <td>...</td>\n",
       "      <td>...</td>\n",
       "    </tr>\n",
       "    <tr>\n",
       "      <th>11106</th>\n",
       "      <td>Negative</td>\n",
       "      <td>eðer gidip bir aynaya bakarsanýz orada en büyü...</td>\n",
       "    </tr>\n",
       "    <tr>\n",
       "      <th>11107</th>\n",
       "      <td>Negative</td>\n",
       "      <td>Asýl fahiþe senin beynin</td>\n",
       "    </tr>\n",
       "    <tr>\n",
       "      <th>11108</th>\n",
       "      <td>Negative</td>\n",
       "      <td>Sorsak bir numaralý müslümandýr sýfatsýz herif</td>\n",
       "    </tr>\n",
       "    <tr>\n",
       "      <th>11109</th>\n",
       "      <td>Negative</td>\n",
       "      <td>surata bak lenetlenmiþ oç</td>\n",
       "    </tr>\n",
       "    <tr>\n",
       "      <th>11110</th>\n",
       "      <td>Negative</td>\n",
       "      <td>Allah ýn din tüccarlarý sizi. Bir insana ifti...</td>\n",
       "    </tr>\n",
       "  </tbody>\n",
       "</table>\n",
       "<p>11111 rows × 2 columns</p>\n",
       "</div>"
      ],
      "text/plain": [
       "          Label                                             Tweets\n",
       "0      Negative                      Doða aðzýmýza sýçsa hakký var\n",
       "1      Positive  Anne bir sanatçýdýr, en güzel eseri de yavrusu...\n",
       "2      Negative   ibrahimin oðlunu koruyan Tanrýya da ben sokayým\n",
       "3      Negative        Köpeðim suratýna sýçsýn senin namussuz karý\n",
       "4      Negative                Ben söðüþledim, birazda sen söðüþle\n",
       "...         ...                                                ...\n",
       "11106  Negative  eðer gidip bir aynaya bakarsanýz orada en büyü...\n",
       "11107  Negative                           Asýl fahiþe senin beynin\n",
       "11108  Negative     Sorsak bir numaralý müslümandýr sýfatsýz herif\n",
       "11109  Negative                          surata bak lenetlenmiþ oç\n",
       "11110  Negative  Allah ýn din tüccarlarý sizi. Bir insana ifti...\n",
       "\n",
       "[11111 rows x 2 columns]"
      ]
     },
     "execution_count": 54,
     "metadata": {},
     "output_type": "execute_result"
    }
   ],
   "source": [
    "turkish_df"
   ]
  },
  {
   "cell_type": "code",
   "execution_count": 55,
   "id": "ea25f67b",
   "metadata": {},
   "outputs": [
    {
     "name": "stdout",
     "output_type": "stream",
     "text": [
      "{'Positive': 6111, 'Negative': 5000}\n"
     ]
    }
   ],
   "source": [
    "# Counts for each class\n",
    "print(turkish_df[\"Label\"].value_counts().to_dict())"
   ]
  },
  {
   "cell_type": "markdown",
   "id": "8a140224",
   "metadata": {},
   "source": [
    "## Split Data"
   ]
  },
  {
   "cell_type": "code",
   "execution_count": 56,
   "id": "90bbe9a2",
   "metadata": {},
   "outputs": [],
   "source": [
    "train_df, temp_df = train_test_split(turkish_df, test_size=0.2, random_state=14, stratify=turkish_df[\"Label\"])\n",
    "test_df, val_df = train_test_split(temp_df, test_size=0.5, random_state=14, stratify=temp_df[\"Label\"])"
   ]
  },
  {
   "cell_type": "code",
   "execution_count": 57,
   "id": "64df7f55",
   "metadata": {},
   "outputs": [
    {
     "data": {
      "text/plain": [
       "(8888, 1111, 1112)"
      ]
     },
     "execution_count": 57,
     "metadata": {},
     "output_type": "execute_result"
    }
   ],
   "source": [
    "len_train = len(train_df)\n",
    "len_test = len(test_df)\n",
    "len_val = len(val_df)\n",
    "\n",
    "(len_train, len_test, len_val)"
   ]
  },
  {
   "cell_type": "code",
   "execution_count": 58,
   "id": "bc312e72",
   "metadata": {},
   "outputs": [
    {
     "name": "stdout",
     "output_type": "stream",
     "text": [
      "{'Positive': 4888, 'Negative': 4000}\n",
      "{'Positive': 612, 'Negative': 500}\n",
      "{'Positive': 611, 'Negative': 500}\n"
     ]
    }
   ],
   "source": [
    "# Counts for each class\n",
    "print(train_df[\"Label\"].value_counts().to_dict())\n",
    "print(val_df[\"Label\"].value_counts().to_dict())\n",
    "print(test_df[\"Label\"].value_counts().to_dict())"
   ]
  },
  {
   "cell_type": "code",
   "execution_count": 60,
   "id": "a8d5569d",
   "metadata": {},
   "outputs": [],
   "source": [
    "train_df.to_csv(\"sentiment/splits/turkish/train.csv\", index=False)\n",
    "test_df.to_csv(\"sentiment/splits/turkish/test.csv\", index=False)\n",
    "val_df.to_csv(\"sentiment/splits/turkish/val.csv\", index=False)"
   ]
  },
  {
   "cell_type": "markdown",
   "id": "cd2b5cae",
   "metadata": {},
   "source": [
    "# English Split"
   ]
  },
  {
   "cell_type": "code",
   "execution_count": 61,
   "id": "40c6aacf",
   "metadata": {},
   "outputs": [],
   "source": [
    "english_df = pd.read_csv(\"sentiment/raw/EnglishTweets.txt\", sep=\"\\t\", names = ['Label', 'Tweets'])"
   ]
  },
  {
   "cell_type": "code",
   "execution_count": 62,
   "id": "2f93b3c3",
   "metadata": {},
   "outputs": [],
   "source": [
    "english_df.loc[english_df[\"Label\"] == 0, \"Label\"] = \"Negative\"\n",
    "english_df.loc[english_df[\"Label\"] == 1, \"Label\"] = \"Positive\""
   ]
  },
  {
   "cell_type": "code",
   "execution_count": 63,
   "id": "8cfeae18",
   "metadata": {},
   "outputs": [],
   "source": [
    "english_sampled_df = english_df.sample(n=turkish_df.shape[0])"
   ]
  },
  {
   "cell_type": "code",
   "execution_count": 64,
   "id": "aa75abfa",
   "metadata": {},
   "outputs": [
    {
     "data": {
      "text/html": [
       "<div>\n",
       "<style scoped>\n",
       "    .dataframe tbody tr th:only-of-type {\n",
       "        vertical-align: middle;\n",
       "    }\n",
       "\n",
       "    .dataframe tbody tr th {\n",
       "        vertical-align: top;\n",
       "    }\n",
       "\n",
       "    .dataframe thead th {\n",
       "        text-align: right;\n",
       "    }\n",
       "</style>\n",
       "<table border=\"1\" class=\"dataframe\">\n",
       "  <thead>\n",
       "    <tr style=\"text-align: right;\">\n",
       "      <th></th>\n",
       "      <th>Label</th>\n",
       "      <th>Tweets</th>\n",
       "    </tr>\n",
       "  </thead>\n",
       "  <tbody>\n",
       "    <tr>\n",
       "      <th>145316</th>\n",
       "      <td>Positive</td>\n",
       "      <td>@nicksantino buffalo?! dude, I live in buffalo...</td>\n",
       "    </tr>\n",
       "    <tr>\n",
       "      <th>125877</th>\n",
       "      <td>Negative</td>\n",
       "      <td>i had a coffee toffee twisted frosty, and i mu...</td>\n",
       "    </tr>\n",
       "    <tr>\n",
       "      <th>113814</th>\n",
       "      <td>Positive</td>\n",
       "      <td>so i came to the conclusion a trip to disneyla...</td>\n",
       "    </tr>\n",
       "    <tr>\n",
       "      <th>91078</th>\n",
       "      <td>Positive</td>\n",
       "      <td>@pinkelephantpun I come from a long line of It...</td>\n",
       "    </tr>\n",
       "    <tr>\n",
       "      <th>149090</th>\n",
       "      <td>Negative</td>\n",
       "      <td>I got stung by something</td>\n",
       "    </tr>\n",
       "    <tr>\n",
       "      <th>...</th>\n",
       "      <td>...</td>\n",
       "      <td>...</td>\n",
       "    </tr>\n",
       "    <tr>\n",
       "      <th>120668</th>\n",
       "      <td>Negative</td>\n",
       "      <td>Computer hit by virus via FB. It sent virus to...</td>\n",
       "    </tr>\n",
       "    <tr>\n",
       "      <th>73832</th>\n",
       "      <td>Positive</td>\n",
       "      <td>@jemimah_knight I get really tired of people w...</td>\n",
       "    </tr>\n",
       "    <tr>\n",
       "      <th>64050</th>\n",
       "      <td>Positive</td>\n",
       "      <td>@RachelLock22 u find the BEST v's videos hhaha</td>\n",
       "    </tr>\n",
       "    <tr>\n",
       "      <th>18444</th>\n",
       "      <td>Positive</td>\n",
       "      <td>@z357x I'd have to agree, rofl. You aren't lame</td>\n",
       "    </tr>\n",
       "    <tr>\n",
       "      <th>38011</th>\n",
       "      <td>Negative</td>\n",
       "      <td>@xbllygbsn noo  wanna get you it   i dunno lma...</td>\n",
       "    </tr>\n",
       "  </tbody>\n",
       "</table>\n",
       "<p>11111 rows × 2 columns</p>\n",
       "</div>"
      ],
      "text/plain": [
       "           Label                                             Tweets\n",
       "145316  Positive  @nicksantino buffalo?! dude, I live in buffalo...\n",
       "125877  Negative  i had a coffee toffee twisted frosty, and i mu...\n",
       "113814  Positive  so i came to the conclusion a trip to disneyla...\n",
       "91078   Positive  @pinkelephantpun I come from a long line of It...\n",
       "149090  Negative                          I got stung by something \n",
       "...          ...                                                ...\n",
       "120668  Negative  Computer hit by virus via FB. It sent virus to...\n",
       "73832   Positive  @jemimah_knight I get really tired of people w...\n",
       "64050   Positive    @RachelLock22 u find the BEST v's videos hhaha \n",
       "18444   Positive   @z357x I'd have to agree, rofl. You aren't lame \n",
       "38011   Negative  @xbllygbsn noo  wanna get you it   i dunno lma...\n",
       "\n",
       "[11111 rows x 2 columns]"
      ]
     },
     "execution_count": 64,
     "metadata": {},
     "output_type": "execute_result"
    }
   ],
   "source": [
    "english_sampled_df"
   ]
  },
  {
   "cell_type": "code",
   "execution_count": 65,
   "id": "078f4378",
   "metadata": {},
   "outputs": [
    {
     "name": "stdout",
     "output_type": "stream",
     "text": [
      "{'Positive': 5562, 'Negative': 5549}\n"
     ]
    }
   ],
   "source": [
    "# Counts for each class\n",
    "print(english_sampled_df[\"Label\"].value_counts().to_dict())"
   ]
  },
  {
   "cell_type": "markdown",
   "id": "f71eee14",
   "metadata": {},
   "source": [
    "## Split Data"
   ]
  },
  {
   "cell_type": "code",
   "execution_count": 66,
   "id": "28d27b56",
   "metadata": {},
   "outputs": [],
   "source": [
    "train_df, temp_df = train_test_split(english_sampled_df, test_size=0.2, random_state=14, stratify=english_sampled_df[\"Label\"])\n",
    "test_df, val_df = train_test_split(temp_df, test_size=0.5, random_state=14, stratify=temp_df[\"Label\"])"
   ]
  },
  {
   "cell_type": "code",
   "execution_count": 67,
   "id": "4fedf6c9",
   "metadata": {},
   "outputs": [
    {
     "data": {
      "text/plain": [
       "(8888, 1111, 1112)"
      ]
     },
     "execution_count": 67,
     "metadata": {},
     "output_type": "execute_result"
    }
   ],
   "source": [
    "len_train = len(train_df)\n",
    "len_test = len(test_df)\n",
    "len_val = len(val_df)\n",
    "\n",
    "(len_train, len_test, len_val)"
   ]
  },
  {
   "cell_type": "code",
   "execution_count": 68,
   "id": "7fcbf393",
   "metadata": {},
   "outputs": [
    {
     "name": "stdout",
     "output_type": "stream",
     "text": [
      "{'Positive': 4449, 'Negative': 4439}\n",
      "{'Positive': 557, 'Negative': 555}\n",
      "{'Positive': 556, 'Negative': 555}\n"
     ]
    }
   ],
   "source": [
    "# Counts for each class\n",
    "print(train_df[\"Label\"].value_counts().to_dict())\n",
    "print(val_df[\"Label\"].value_counts().to_dict())\n",
    "print(test_df[\"Label\"].value_counts().to_dict())"
   ]
  },
  {
   "cell_type": "code",
   "execution_count": 69,
   "id": "ecbd356a",
   "metadata": {},
   "outputs": [],
   "source": [
    "train_df.to_csv(\"sentiment/splits/english/train.csv\", index=False)\n",
    "test_df.to_csv(\"sentiment/splits/english/test.csv\", index=False)\n",
    "val_df.to_csv(\"sentiment/splits/english/val.csv\", index=False)"
   ]
  },
  {
   "cell_type": "code",
   "execution_count": null,
   "id": "50c39b5a",
   "metadata": {},
   "outputs": [],
   "source": []
  }
 ],
 "metadata": {
  "kernelspec": {
   "display_name": "Python 3 (ipykernel - env)",
   "language": "python",
   "name": "python3"
  },
  "language_info": {
   "codemirror_mode": {
    "name": "ipython",
    "version": 3
   },
   "file_extension": ".py",
   "mimetype": "text/x-python",
   "name": "python",
   "nbconvert_exporter": "python",
   "pygments_lexer": "ipython3",
   "version": "3.10.14"
  }
 },
 "nbformat": 4,
 "nbformat_minor": 5
}
