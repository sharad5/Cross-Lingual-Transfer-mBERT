{
 "cells": [
  {
   "cell_type": "code",
   "execution_count": 1,
   "id": "ef7cfaab",
   "metadata": {},
   "outputs": [],
   "source": [
    "import pandas as pd\n",
    "import numpy as np\n",
    "from sklearn.model_selection import train_test_split"
   ]
  },
  {
   "cell_type": "markdown",
   "id": "bd4a52de",
   "metadata": {},
   "source": [
    "# Turkish Split"
   ]
  },
  {
   "cell_type": "code",
   "execution_count": 27,
   "id": "11d6c7cd",
   "metadata": {},
   "outputs": [],
   "source": [
    "turkish_df = pd.read_csv(\"hate speech/turkish_hatespeech_final_dataset.csv\")"
   ]
  },
  {
   "cell_type": "code",
   "execution_count": 28,
   "id": "2a3c69d0",
   "metadata": {},
   "outputs": [],
   "source": [
    "turkish_df.loc[turkish_df[\"HateLabel\"] == 2, \"HateLabel\"] = 1"
   ]
  },
  {
   "cell_type": "code",
   "execution_count": 29,
   "id": "fb91272f",
   "metadata": {
    "scrolled": false
   },
   "outputs": [
    {
     "data": {
      "text/html": [
       "<div>\n",
       "<style scoped>\n",
       "    .dataframe tbody tr th:only-of-type {\n",
       "        vertical-align: middle;\n",
       "    }\n",
       "\n",
       "    .dataframe tbody tr th {\n",
       "        vertical-align: top;\n",
       "    }\n",
       "\n",
       "    .dataframe thead th {\n",
       "        text-align: right;\n",
       "    }\n",
       "</style>\n",
       "<table border=\"1\" class=\"dataframe\">\n",
       "  <thead>\n",
       "    <tr style=\"text-align: right;\">\n",
       "      <th></th>\n",
       "      <th>TweetID</th>\n",
       "      <th>LangID</th>\n",
       "      <th>TopicID</th>\n",
       "      <th>HateLabel</th>\n",
       "      <th>tweet_text</th>\n",
       "    </tr>\n",
       "  </thead>\n",
       "  <tbody>\n",
       "    <tr>\n",
       "      <th>0</th>\n",
       "      <td>1344683235775803395</td>\n",
       "      <td>0</td>\n",
       "      <td>1</td>\n",
       "      <td>1</td>\n",
       "      <td>Bu ahlaksız olaya sessiz kalan mor hesaplar si...</td>\n",
       "    </tr>\n",
       "    <tr>\n",
       "      <th>1</th>\n",
       "      <td>1344620612329857024</td>\n",
       "      <td>0</td>\n",
       "      <td>1</td>\n",
       "      <td>1</td>\n",
       "      <td>Kadın cinayetleri için adalet için tecavüz edi...</td>\n",
       "    </tr>\n",
       "    <tr>\n",
       "      <th>2</th>\n",
       "      <td>1344218410239078401</td>\n",
       "      <td>0</td>\n",
       "      <td>1</td>\n",
       "      <td>1</td>\n",
       "      <td>Yaa kadın cinayetleri niye bu kadar çoğaldı si...</td>\n",
       "    </tr>\n",
       "    <tr>\n",
       "      <th>3</th>\n",
       "      <td>1344216116298702848</td>\n",
       "      <td>0</td>\n",
       "      <td>1</td>\n",
       "      <td>1</td>\n",
       "      <td>#haber #gundem #Turkiye #kadıncinayetlerisonbu...</td>\n",
       "    </tr>\n",
       "    <tr>\n",
       "      <th>4</th>\n",
       "      <td>1344203195342610433</td>\n",
       "      <td>0</td>\n",
       "      <td>1</td>\n",
       "      <td>1</td>\n",
       "      <td>#Kadın cinayetleri vahşice labetliyoruz\\n#Bu c...</td>\n",
       "    </tr>\n",
       "    <tr>\n",
       "      <th>...</th>\n",
       "      <td>...</td>\n",
       "      <td>...</td>\n",
       "      <td>...</td>\n",
       "      <td>...</td>\n",
       "      <td>...</td>\n",
       "    </tr>\n",
       "    <tr>\n",
       "      <th>18141</th>\n",
       "      <td>1373134291346030594</td>\n",
       "      <td>0</td>\n",
       "      <td>2</td>\n",
       "      <td>0</td>\n",
       "      <td>Bütün kritik saldırı mesajlarını veriyorlar\\nK...</td>\n",
       "    </tr>\n",
       "    <tr>\n",
       "      <th>18142</th>\n",
       "      <td>1343278728844079106</td>\n",
       "      <td>0</td>\n",
       "      <td>2</td>\n",
       "      <td>0</td>\n",
       "      <td>Hocavend'in Tuğ köyünde terörist Ermeni güçler...</td>\n",
       "    </tr>\n",
       "    <tr>\n",
       "      <th>18143</th>\n",
       "      <td>1273729701828231168</td>\n",
       "      <td>0</td>\n",
       "      <td>3</td>\n",
       "      <td>0</td>\n",
       "      <td>Sosyal paylaşım sitesi Facebook, ABD Başkanı T...</td>\n",
       "    </tr>\n",
       "    <tr>\n",
       "      <th>18144</th>\n",
       "      <td>1233830217862434816</td>\n",
       "      <td>0</td>\n",
       "      <td>4</td>\n",
       "      <td>0</td>\n",
       "      <td>Evet hanımlar beyler Trabzonspor için daha önc...</td>\n",
       "    </tr>\n",
       "    <tr>\n",
       "      <th>18145</th>\n",
       "      <td>1334869351091068931</td>\n",
       "      <td>0</td>\n",
       "      <td>2</td>\n",
       "      <td>0</td>\n",
       "      <td>ACİL! \\n\\nGaziantep Amerikan Hastanesinde yatm...</td>\n",
       "    </tr>\n",
       "  </tbody>\n",
       "</table>\n",
       "<p>18146 rows × 5 columns</p>\n",
       "</div>"
      ],
      "text/plain": [
       "                   TweetID  LangID  TopicID  HateLabel  \\\n",
       "0      1344683235775803395       0        1          1   \n",
       "1      1344620612329857024       0        1          1   \n",
       "2      1344218410239078401       0        1          1   \n",
       "3      1344216116298702848       0        1          1   \n",
       "4      1344203195342610433       0        1          1   \n",
       "...                    ...     ...      ...        ...   \n",
       "18141  1373134291346030594       0        2          0   \n",
       "18142  1343278728844079106       0        2          0   \n",
       "18143  1273729701828231168       0        3          0   \n",
       "18144  1233830217862434816       0        4          0   \n",
       "18145  1334869351091068931       0        2          0   \n",
       "\n",
       "                                              tweet_text  \n",
       "0      Bu ahlaksız olaya sessiz kalan mor hesaplar si...  \n",
       "1      Kadın cinayetleri için adalet için tecavüz edi...  \n",
       "2      Yaa kadın cinayetleri niye bu kadar çoğaldı si...  \n",
       "3      #haber #gundem #Turkiye #kadıncinayetlerisonbu...  \n",
       "4      #Kadın cinayetleri vahşice labetliyoruz\\n#Bu c...  \n",
       "...                                                  ...  \n",
       "18141  Bütün kritik saldırı mesajlarını veriyorlar\\nK...  \n",
       "18142  Hocavend'in Tuğ köyünde terörist Ermeni güçler...  \n",
       "18143  Sosyal paylaşım sitesi Facebook, ABD Başkanı T...  \n",
       "18144  Evet hanımlar beyler Trabzonspor için daha önc...  \n",
       "18145  ACİL! \\n\\nGaziantep Amerikan Hastanesinde yatm...  \n",
       "\n",
       "[18146 rows x 5 columns]"
      ]
     },
     "execution_count": 29,
     "metadata": {},
     "output_type": "execute_result"
    }
   ],
   "source": [
    "turkish_df"
   ]
  },
  {
   "cell_type": "code",
   "execution_count": 30,
   "id": "ea25f67b",
   "metadata": {},
   "outputs": [
    {
     "name": "stdout",
     "output_type": "stream",
     "text": [
      "{0: 9670, 1: 8476}\n"
     ]
    }
   ],
   "source": [
    "# Counts for each class\n",
    "print(turkish_df[\"HateLabel\"].value_counts().to_dict())"
   ]
  },
  {
   "cell_type": "markdown",
   "id": "8a140224",
   "metadata": {},
   "source": [
    "## Split Data"
   ]
  },
  {
   "cell_type": "code",
   "execution_count": 31,
   "id": "90bbe9a2",
   "metadata": {},
   "outputs": [],
   "source": [
    "train_df, temp_df = train_test_split(turkish_df, test_size=0.2, random_state=14, stratify=turkish_df[\"HateLabel\"])\n",
    "test_df, val_df = train_test_split(temp_df, test_size=0.5, random_state=14, stratify=temp_df[\"HateLabel\"])"
   ]
  },
  {
   "cell_type": "code",
   "execution_count": 32,
   "id": "64df7f55",
   "metadata": {},
   "outputs": [
    {
     "data": {
      "text/plain": [
       "(14516, 1815, 1815)"
      ]
     },
     "execution_count": 32,
     "metadata": {},
     "output_type": "execute_result"
    }
   ],
   "source": [
    "len_train = len(train_df)\n",
    "len_test = len(test_df)\n",
    "len_val = len(val_df)\n",
    "\n",
    "(len_train, len_test, len_val)"
   ]
  },
  {
   "cell_type": "code",
   "execution_count": 33,
   "id": "bc312e72",
   "metadata": {},
   "outputs": [
    {
     "name": "stdout",
     "output_type": "stream",
     "text": [
      "{0: 7736, 1: 6780}\n",
      "{0: 967, 1: 848}\n",
      "{0: 967, 1: 848}\n"
     ]
    }
   ],
   "source": [
    "# Counts for each class\n",
    "print(train_df[\"HateLabel\"].value_counts().to_dict())\n",
    "print(val_df[\"HateLabel\"].value_counts().to_dict())\n",
    "print(test_df[\"HateLabel\"].value_counts().to_dict())"
   ]
  },
  {
   "cell_type": "code",
   "execution_count": 34,
   "id": "a8d5569d",
   "metadata": {},
   "outputs": [],
   "source": [
    "train_df.to_csv(\"hate speech/splits/turkish/train.csv\", index=False)\n",
    "test_df.to_csv(\"hate speech/splits/turkish/test.csv\", index=False)\n",
    "val_df.to_csv(\"hate speech/splits/turkish/val.csv\", index=False)"
   ]
  },
  {
   "cell_type": "markdown",
   "id": "cd2b5cae",
   "metadata": {},
   "source": [
    "# English Split"
   ]
  },
  {
   "cell_type": "code",
   "execution_count": 40,
   "id": "40c6aacf",
   "metadata": {},
   "outputs": [],
   "source": [
    "english_df = pd.read_csv(\"hate speech/english_hatespeech_final_dataset.csv\")"
   ]
  },
  {
   "cell_type": "code",
   "execution_count": 41,
   "id": "8fb3bcc7",
   "metadata": {},
   "outputs": [],
   "source": [
    "english_df.loc[english_df[\"HateLabel\"] == 2.0, \"HateLabel\"] = 1"
   ]
  },
  {
   "cell_type": "code",
   "execution_count": 42,
   "id": "aa75abfa",
   "metadata": {},
   "outputs": [
    {
     "data": {
      "text/html": [
       "<div>\n",
       "<style scoped>\n",
       "    .dataframe tbody tr th:only-of-type {\n",
       "        vertical-align: middle;\n",
       "    }\n",
       "\n",
       "    .dataframe tbody tr th {\n",
       "        vertical-align: top;\n",
       "    }\n",
       "\n",
       "    .dataframe thead th {\n",
       "        text-align: right;\n",
       "    }\n",
       "</style>\n",
       "<table border=\"1\" class=\"dataframe\">\n",
       "  <thead>\n",
       "    <tr style=\"text-align: right;\">\n",
       "      <th></th>\n",
       "      <th>TweetID</th>\n",
       "      <th>LangID</th>\n",
       "      <th>TopicID</th>\n",
       "      <th>HateLabel</th>\n",
       "      <th>tweet_text</th>\n",
       "    </tr>\n",
       "  </thead>\n",
       "  <tbody>\n",
       "    <tr>\n",
       "      <th>0</th>\n",
       "      <td>1377203834410434562</td>\n",
       "      <td>1.0</td>\n",
       "      <td>0.0</td>\n",
       "      <td>1.0</td>\n",
       "      <td>The Washington-declared coalition has targeted...</td>\n",
       "    </tr>\n",
       "    <tr>\n",
       "      <th>1</th>\n",
       "      <td>1277564191826522112</td>\n",
       "      <td>1.0</td>\n",
       "      <td>0.0</td>\n",
       "      <td>1.0</td>\n",
       "      <td>my fucking ex crush just like some holy-god-mu...</td>\n",
       "    </tr>\n",
       "    <tr>\n",
       "      <th>2</th>\n",
       "      <td>1376887666445332480</td>\n",
       "      <td>1.0</td>\n",
       "      <td>0.0</td>\n",
       "      <td>1.0</td>\n",
       "      <td>i wanna walk into a church start muttering dem...</td>\n",
       "    </tr>\n",
       "    <tr>\n",
       "      <th>3</th>\n",
       "      <td>1233891253584105475</td>\n",
       "      <td>1.0</td>\n",
       "      <td>0.0</td>\n",
       "      <td>1.0</td>\n",
       "      <td>Someone tell me its not true that in 2020  #bj...</td>\n",
       "    </tr>\n",
       "    <tr>\n",
       "      <th>4</th>\n",
       "      <td>1277242796047507456</td>\n",
       "      <td>1.0</td>\n",
       "      <td>0.0</td>\n",
       "      <td>1.0</td>\n",
       "      <td>This is freaking sick.😠\\n\\nSee how BJP &amp;amp; R...</td>\n",
       "    </tr>\n",
       "    <tr>\n",
       "      <th>...</th>\n",
       "      <td>...</td>\n",
       "      <td>...</td>\n",
       "      <td>...</td>\n",
       "      <td>...</td>\n",
       "      <td>...</td>\n",
       "    </tr>\n",
       "    <tr>\n",
       "      <th>15986</th>\n",
       "      <td>1377169844265611266</td>\n",
       "      <td>1.0</td>\n",
       "      <td>3.0</td>\n",
       "      <td>0.0</td>\n",
       "      <td>Can Nicola Sturgeon please tell the Scottish P...</td>\n",
       "    </tr>\n",
       "    <tr>\n",
       "      <th>15987</th>\n",
       "      <td>1377169841136627716</td>\n",
       "      <td>1.0</td>\n",
       "      <td>3.0</td>\n",
       "      <td>0.0</td>\n",
       "      <td>As things are going politically in Nigeria, be...</td>\n",
       "    </tr>\n",
       "    <tr>\n",
       "      <th>15988</th>\n",
       "      <td>1377169638816063492</td>\n",
       "      <td>1.0</td>\n",
       "      <td>3.0</td>\n",
       "      <td>0.0</td>\n",
       "      <td>MP Odonga Otto granted bail in Pader. charges ...</td>\n",
       "    </tr>\n",
       "    <tr>\n",
       "      <th>15989</th>\n",
       "      <td>1377169548730802176</td>\n",
       "      <td>1.0</td>\n",
       "      <td>3.0</td>\n",
       "      <td>0.0</td>\n",
       "      <td>This is what happens when politicians think th...</td>\n",
       "    </tr>\n",
       "    <tr>\n",
       "      <th>15990</th>\n",
       "      <td>1377169520897351680</td>\n",
       "      <td>1.0</td>\n",
       "      <td>3.0</td>\n",
       "      <td>0.0</td>\n",
       "      <td>AstraZeneca vaccine is safe, says UK minister ...</td>\n",
       "    </tr>\n",
       "  </tbody>\n",
       "</table>\n",
       "<p>15991 rows × 5 columns</p>\n",
       "</div>"
      ],
      "text/plain": [
       "                   TweetID  LangID  TopicID  HateLabel  \\\n",
       "0      1377203834410434562     1.0      0.0        1.0   \n",
       "1      1277564191826522112     1.0      0.0        1.0   \n",
       "2      1376887666445332480     1.0      0.0        1.0   \n",
       "3      1233891253584105475     1.0      0.0        1.0   \n",
       "4      1277242796047507456     1.0      0.0        1.0   \n",
       "...                    ...     ...      ...        ...   \n",
       "15986  1377169844265611266     1.0      3.0        0.0   \n",
       "15987  1377169841136627716     1.0      3.0        0.0   \n",
       "15988  1377169638816063492     1.0      3.0        0.0   \n",
       "15989  1377169548730802176     1.0      3.0        0.0   \n",
       "15990  1377169520897351680     1.0      3.0        0.0   \n",
       "\n",
       "                                              tweet_text  \n",
       "0      The Washington-declared coalition has targeted...  \n",
       "1      my fucking ex crush just like some holy-god-mu...  \n",
       "2      i wanna walk into a church start muttering dem...  \n",
       "3      Someone tell me its not true that in 2020  #bj...  \n",
       "4      This is freaking sick.😠\\n\\nSee how BJP &amp; R...  \n",
       "...                                                  ...  \n",
       "15986  Can Nicola Sturgeon please tell the Scottish P...  \n",
       "15987  As things are going politically in Nigeria, be...  \n",
       "15988  MP Odonga Otto granted bail in Pader. charges ...  \n",
       "15989  This is what happens when politicians think th...  \n",
       "15990  AstraZeneca vaccine is safe, says UK minister ...  \n",
       "\n",
       "[15991 rows x 5 columns]"
      ]
     },
     "execution_count": 42,
     "metadata": {},
     "output_type": "execute_result"
    }
   ],
   "source": [
    "english_df[\"\"]"
   ]
  },
  {
   "cell_type": "code",
   "execution_count": 17,
   "id": "078f4378",
   "metadata": {},
   "outputs": [
    {
     "name": "stdout",
     "output_type": "stream",
     "text": [
      "{0.0: 11069, 2.0: 4922}\n"
     ]
    }
   ],
   "source": [
    "# Counts for each class\n",
    "print(english_df[\"HateLabel\"].value_counts().to_dict())"
   ]
  },
  {
   "cell_type": "markdown",
   "id": "f71eee14",
   "metadata": {},
   "source": [
    "## Split Data"
   ]
  },
  {
   "cell_type": "code",
   "execution_count": 21,
   "id": "28d27b56",
   "metadata": {},
   "outputs": [],
   "source": [
    "train_df, temp_df = train_test_split(english_df, test_size=0.2, random_state=14, stratify=english_df[\"HateLabel\"])\n",
    "test_df, val_df = train_test_split(temp_df, test_size=0.5, random_state=14, stratify=temp_df[\"HateLabel\"])"
   ]
  },
  {
   "cell_type": "code",
   "execution_count": 22,
   "id": "4fedf6c9",
   "metadata": {},
   "outputs": [
    {
     "data": {
      "text/plain": [
       "(12792, 1599, 1600)"
      ]
     },
     "execution_count": 22,
     "metadata": {},
     "output_type": "execute_result"
    }
   ],
   "source": [
    "len_train = len(train_df)\n",
    "len_test = len(test_df)\n",
    "len_val = len(val_df)\n",
    "\n",
    "(len_train, len_test, len_val)"
   ]
  },
  {
   "cell_type": "code",
   "execution_count": 23,
   "id": "7fcbf393",
   "metadata": {},
   "outputs": [
    {
     "name": "stdout",
     "output_type": "stream",
     "text": [
      "{0.0: 8855, 2.0: 3937}\n",
      "{0.0: 1107, 2.0: 493}\n",
      "{0.0: 1107, 2.0: 492}\n"
     ]
    }
   ],
   "source": [
    "# Counts for each class\n",
    "print(train_df[\"HateLabel\"].value_counts().to_dict())\n",
    "print(val_df[\"HateLabel\"].value_counts().to_dict())\n",
    "print(test_df[\"HateLabel\"].value_counts().to_dict())"
   ]
  },
  {
   "cell_type": "code",
   "execution_count": 25,
   "id": "ecbd356a",
   "metadata": {},
   "outputs": [],
   "source": [
    "train_df.to_csv(\"hate speech/splits/english/train.csv\", index=False)\n",
    "test_df.to_csv(\"hate speech/splits/english/test.csv\", index=False)\n",
    "val_df.to_csv(\"hate speech/splits/english/val.csv\", index=False)"
   ]
  },
  {
   "cell_type": "code",
   "execution_count": null,
   "id": "50c39b5a",
   "metadata": {},
   "outputs": [],
   "source": []
  }
 ],
 "metadata": {
  "kernelspec": {
   "display_name": "Python 3 (ipykernel - env)",
   "language": "python",
   "name": "python3"
  },
  "language_info": {
   "codemirror_mode": {
    "name": "ipython",
    "version": 3
   },
   "file_extension": ".py",
   "mimetype": "text/x-python",
   "name": "python",
   "nbconvert_exporter": "python",
   "pygments_lexer": "ipython3",
   "version": "3.10.14"
  }
 },
 "nbformat": 4,
 "nbformat_minor": 5
}
