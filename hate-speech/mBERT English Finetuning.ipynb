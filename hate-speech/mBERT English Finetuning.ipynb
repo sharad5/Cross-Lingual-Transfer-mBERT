{
 "cells": [
  {
   "cell_type": "code",
   "execution_count": 1,
   "metadata": {},
   "outputs": [
    {
     "name": "stderr",
     "output_type": "stream",
     "text": [
      "/ext3/miniconda3/envs/owl_boto/lib/python3.10/site-packages/tqdm/auto.py:21: TqdmWarning: IProgress not found. Please update jupyter and ipywidgets. See https://ipywidgets.readthedocs.io/en/stable/user_install.html\n",
      "  from .autonotebook import tqdm as notebook_tqdm\n",
      "2024-05-11 17:25:43.804600: I tensorflow/core/util/port.cc:113] oneDNN custom operations are on. You may see slightly different numerical results due to floating-point round-off errors from different computation orders. To turn them off, set the environment variable `TF_ENABLE_ONEDNN_OPTS=0`.\n",
      "2024-05-11 17:25:47.265448: E external/local_xla/xla/stream_executor/cuda/cuda_dnn.cc:9261] Unable to register cuDNN factory: Attempting to register factory for plugin cuDNN when one has already been registered\n",
      "2024-05-11 17:25:47.265485: E external/local_xla/xla/stream_executor/cuda/cuda_fft.cc:607] Unable to register cuFFT factory: Attempting to register factory for plugin cuFFT when one has already been registered\n",
      "2024-05-11 17:25:47.280092: E external/local_xla/xla/stream_executor/cuda/cuda_blas.cc:1515] Unable to register cuBLAS factory: Attempting to register factory for plugin cuBLAS when one has already been registered\n",
      "2024-05-11 17:25:47.312622: I tensorflow/core/platform/cpu_feature_guard.cc:182] This TensorFlow binary is optimized to use available CPU instructions in performance-critical operations.\n",
      "To enable the following instructions: AVX2 AVX512F AVX512_VNNI FMA, in other operations, rebuild TensorFlow with the appropriate compiler flags.\n",
      "2024-05-11 17:25:54.296512: W tensorflow/compiler/tf2tensorrt/utils/py_utils.cc:38] TF-TRT Warning: Could not find TensorRT\n"
     ]
    }
   ],
   "source": [
    "import numpy as np\n",
    "import pandas as pd\n",
    "from tqdm import tqdm\n",
    "from collections import Counter\n",
    "from sklearn.metrics import f1_score, accuracy_score\n",
    "\n",
    "import matplotlib.pyplot as plt\n",
    "%matplotlib inline\n",
    "\n",
    "import torch\n",
    "from torch import nn\n",
    "from torch.utils.data import Dataset, DataLoader\n",
    "\n",
    "from transformers import AutoTokenizer, AutoModelForSequenceClassification\n",
    "from transformers import Trainer, TrainingArguments"
   ]
  },
  {
   "cell_type": "markdown",
   "metadata": {},
   "source": [
    "## Load Model"
   ]
  },
  {
   "cell_type": "code",
   "execution_count": 2,
   "metadata": {},
   "outputs": [],
   "source": [
    "# https://huggingface.co/transformers/v3.2.0/custom_datasets.html"
   ]
  },
  {
   "cell_type": "code",
   "execution_count": 2,
   "metadata": {
    "scrolled": true
   },
   "outputs": [
    {
     "name": "stderr",
     "output_type": "stream",
     "text": [
      "Some weights of BertForSequenceClassification were not initialized from the model checkpoint at google-bert/bert-base-multilingual-uncased and are newly initialized: ['classifier.bias', 'classifier.weight']\n",
      "You should probably TRAIN this model on a down-stream task to be able to use it for predictions and inference.\n"
     ]
    }
   ],
   "source": [
    "checkpoint = \"google-bert/bert-base-multilingual-uncased\" #xlm-roberta-base\n",
    "\n",
    "tokenizer = AutoTokenizer.from_pretrained(checkpoint)\n",
    "model = AutoModelForSequenceClassification.from_pretrained(checkpoint)"
   ]
  },
  {
   "cell_type": "markdown",
   "metadata": {},
   "source": [
    "## Create Datasets"
   ]
  },
  {
   "cell_type": "code",
   "execution_count": 3,
   "metadata": {},
   "outputs": [],
   "source": [
    "class HSDataset(Dataset):\n",
    "    def __init__(self, encodings, labels):\n",
    "        self.encodings = encodings\n",
    "        self.labels = labels\n",
    "\n",
    "    def __getitem__(self, idx):\n",
    "        item = {key: val[idx] for key, val in self.encodings.items()}\n",
    "        item['labels'] = torch.tensor(self.labels[idx])\n",
    "        return item\n",
    "\n",
    "    def __len__(self):\n",
    "        return len(self.labels)"
   ]
  },
  {
   "cell_type": "code",
   "execution_count": 4,
   "metadata": {},
   "outputs": [],
   "source": [
    "train_df = pd.read_csv(\"../data/hate speech/splits/english/train.csv\")\n",
    "val_df = pd.read_csv(\"../data/hate speech/splits/english/val.csv\")\n",
    "test_df = pd.read_csv(\"../data/hate speech/splits/turkish/test.csv\")\n",
    "\n",
    "train_encodings = tokenizer(train_df['tweet_text'].tolist(), padding=True, truncation=True, max_length=512, return_tensors=\"pt\")\n",
    "val_encodings = tokenizer(val_df['tweet_text'].tolist(), padding=True, truncation=True, max_length=512, return_tensors=\"pt\")\n",
    "test_encodings = tokenizer(test_df['tweet_text'].tolist(), padding=True, truncation=True, max_length=512, return_tensors=\"pt\")\n",
    "\n",
    "train_dataset = HSDataset(train_encodings, train_df['HateLabel'].tolist())\n",
    "val_dataset = HSDataset(val_encodings, val_df['HateLabel'].tolist())\n",
    "test_dataset = HSDataset(test_encodings, test_df['HateLabel'].tolist())"
   ]
  },
  {
   "cell_type": "code",
   "execution_count": 5,
   "metadata": {},
   "outputs": [
    {
     "data": {
      "text/plain": [
       "device(type='cuda')"
      ]
     },
     "execution_count": 5,
     "metadata": {},
     "output_type": "execute_result"
    }
   ],
   "source": [
    "device = torch.device(\"cuda\") if torch.cuda.is_available() else \"cpu\"\n",
    "device"
   ]
  },
  {
   "cell_type": "code",
   "execution_count": 8,
   "metadata": {},
   "outputs": [
    {
     "data": {
      "text/plain": [
       "tensor([3.2492, 1.4446], device='cuda:0')"
      ]
     },
     "execution_count": 8,
     "metadata": {},
     "output_type": "execute_result"
    }
   ],
   "source": [
    "class_instance_counts = torch.tensor(list(dict(Counter(train_df['HateLabel'].tolist())).values()))\n",
    "class_instance_probs = class_instance_counts/class_instance_counts.sum().item()\n",
    "class_weights = 1 / class_instance_probs\n",
    "class_weights.to(device)"
   ]
  },
  {
   "cell_type": "code",
   "execution_count": 9,
   "metadata": {},
   "outputs": [
    {
     "data": {
      "text/plain": [
       "12792"
      ]
     },
     "execution_count": 9,
     "metadata": {},
     "output_type": "execute_result"
    }
   ],
   "source": [
    "class_instance_counts.sum().item()"
   ]
  },
  {
   "cell_type": "markdown",
   "metadata": {},
   "source": [
    "## Define Trainer"
   ]
  },
  {
   "cell_type": "code",
   "execution_count": 10,
   "metadata": {},
   "outputs": [],
   "source": [
    "# https://huggingface.co/docs/transformers/main_classes/trainer\n",
    "\n",
    "class CustomTrainer(Trainer):\n",
    "    def __init__(self, *args, class_weights, **kwargs):\n",
    "        super().__init__(*args, **kwargs)\n",
    "        self.loss_fn = nn.CrossEntropyLoss(weight=class_weights)\n",
    "\n",
    "    def compute_loss(self, model, inputs, return_outputs=False):\n",
    "        labels = inputs.pop(\"labels\")\n",
    "        outputs = model(**inputs)\n",
    "        logits = outputs.logits.squeeze()\n",
    "        loss = self.loss_fn(logits, labels)\n",
    "        return (loss, outputs) if return_outputs else loss"
   ]
  },
  {
   "cell_type": "code",
   "execution_count": 11,
   "metadata": {},
   "outputs": [],
   "source": [
    "training_args = TrainingArguments(\n",
    "    output_dir=\"./results\",\n",
    "    num_train_epochs=3,\n",
    "    per_device_train_batch_size=16,\n",
    "    per_device_eval_batch_size=16,\n",
    "    warmup_steps=500,\n",
    "    weight_decay=0.01,\n",
    "    logging_dir='./logs',\n",
    "    logging_steps=50,\n",
    "    eval_steps=50,\n",
    "    evaluation_strategy=\"steps\",\n",
    "    load_best_model_at_end=True,\n",
    "    label_names=[\"labels\"]\n",
    ")"
   ]
  },
  {
   "cell_type": "code",
   "execution_count": 12,
   "metadata": {
    "scrolled": true
   },
   "outputs": [
    {
     "data": {
      "text/plain": [
       "TrainingArguments(\n",
       "_n_gpu=1,\n",
       "adafactor=False,\n",
       "adam_beta1=0.9,\n",
       "adam_beta2=0.999,\n",
       "adam_epsilon=1e-08,\n",
       "auto_find_batch_size=False,\n",
       "bf16=False,\n",
       "bf16_full_eval=False,\n",
       "data_seed=None,\n",
       "dataloader_drop_last=False,\n",
       "dataloader_num_workers=0,\n",
       "dataloader_pin_memory=True,\n",
       "ddp_backend=None,\n",
       "ddp_broadcast_buffers=None,\n",
       "ddp_bucket_cap_mb=None,\n",
       "ddp_find_unused_parameters=None,\n",
       "ddp_timeout=1800,\n",
       "debug=[],\n",
       "deepspeed=None,\n",
       "disable_tqdm=False,\n",
       "dispatch_batches=None,\n",
       "do_eval=True,\n",
       "do_predict=False,\n",
       "do_train=False,\n",
       "eval_accumulation_steps=None,\n",
       "eval_delay=0,\n",
       "eval_steps=50,\n",
       "evaluation_strategy=steps,\n",
       "fp16=False,\n",
       "fp16_backend=auto,\n",
       "fp16_full_eval=False,\n",
       "fp16_opt_level=O1,\n",
       "fsdp=[],\n",
       "fsdp_config={'min_num_params': 0, 'xla': False, 'xla_fsdp_grad_ckpt': False},\n",
       "fsdp_min_num_params=0,\n",
       "fsdp_transformer_layer_cls_to_wrap=None,\n",
       "full_determinism=False,\n",
       "gradient_accumulation_steps=1,\n",
       "gradient_checkpointing=False,\n",
       "gradient_checkpointing_kwargs=None,\n",
       "greater_is_better=False,\n",
       "group_by_length=False,\n",
       "half_precision_backend=auto,\n",
       "hub_always_push=False,\n",
       "hub_model_id=None,\n",
       "hub_private_repo=False,\n",
       "hub_strategy=every_save,\n",
       "hub_token=<HUB_TOKEN>,\n",
       "ignore_data_skip=False,\n",
       "include_inputs_for_metrics=False,\n",
       "include_tokens_per_second=False,\n",
       "jit_mode_eval=False,\n",
       "label_names=['labels'],\n",
       "label_smoothing_factor=0.0,\n",
       "learning_rate=5e-05,\n",
       "length_column_name=length,\n",
       "load_best_model_at_end=True,\n",
       "local_rank=0,\n",
       "log_level=passive,\n",
       "log_level_replica=warning,\n",
       "log_on_each_node=True,\n",
       "logging_dir=./logs,\n",
       "logging_first_step=False,\n",
       "logging_nan_inf_filter=True,\n",
       "logging_steps=50,\n",
       "logging_strategy=steps,\n",
       "lr_scheduler_type=linear,\n",
       "max_grad_norm=1.0,\n",
       "max_steps=-1,\n",
       "metric_for_best_model=loss,\n",
       "mp_parameters=,\n",
       "neftune_noise_alpha=None,\n",
       "no_cuda=False,\n",
       "num_train_epochs=3,\n",
       "optim=adamw_torch,\n",
       "optim_args=None,\n",
       "output_dir=./results,\n",
       "overwrite_output_dir=False,\n",
       "past_index=-1,\n",
       "per_device_eval_batch_size=16,\n",
       "per_device_train_batch_size=16,\n",
       "prediction_loss_only=False,\n",
       "push_to_hub=False,\n",
       "push_to_hub_model_id=None,\n",
       "push_to_hub_organization=None,\n",
       "push_to_hub_token=<PUSH_TO_HUB_TOKEN>,\n",
       "ray_scope=last,\n",
       "remove_unused_columns=True,\n",
       "report_to=['tensorboard', 'wandb'],\n",
       "resume_from_checkpoint=None,\n",
       "run_name=./results,\n",
       "save_on_each_node=False,\n",
       "save_safetensors=True,\n",
       "save_steps=500,\n",
       "save_strategy=steps,\n",
       "save_total_limit=None,\n",
       "seed=42,\n",
       "skip_memory_metrics=True,\n",
       "split_batches=False,\n",
       "tf32=None,\n",
       "torch_compile=False,\n",
       "torch_compile_backend=None,\n",
       "torch_compile_mode=None,\n",
       "torchdynamo=None,\n",
       "tpu_metrics_debug=False,\n",
       "tpu_num_cores=None,\n",
       "use_cpu=False,\n",
       "use_ipex=False,\n",
       "use_legacy_prediction_loop=False,\n",
       "use_mps_device=False,\n",
       "warmup_ratio=0.0,\n",
       "warmup_steps=500,\n",
       "weight_decay=0.01,\n",
       ")"
      ]
     },
     "execution_count": 12,
     "metadata": {},
     "output_type": "execute_result"
    }
   ],
   "source": [
    "training_args"
   ]
  },
  {
   "cell_type": "code",
   "execution_count": 13,
   "metadata": {},
   "outputs": [],
   "source": [
    "def compute_metrics(pred):\n",
    "    labels = pred.label_ids\n",
    "    preds = pred.predictions.argmax(-1)\n",
    "    f1 = f1_score(labels, preds, average='binary')\n",
    "    acc = accuracy_score(labels, preds)\n",
    "    return {\n",
    "        'f1': f1,\n",
    "        'accuracy': acc\n",
    "    }"
   ]
  },
  {
   "cell_type": "code",
   "execution_count": 14,
   "metadata": {
    "scrolled": true
   },
   "outputs": [
    {
     "data": {
      "text/plain": [
       "<IntervalStrategy.STEPS: 'steps'>"
      ]
     },
     "execution_count": 14,
     "metadata": {},
     "output_type": "execute_result"
    }
   ],
   "source": [
    "training_args.evaluation_strategy"
   ]
  },
  {
   "cell_type": "code",
   "execution_count": 15,
   "metadata": {},
   "outputs": [],
   "source": [
    "trainer = CustomTrainer(\n",
    "    model=model,\n",
    "    args=training_args,\n",
    "    train_dataset=train_dataset,\n",
    "    eval_dataset=val_dataset,\n",
    "    class_weights=class_weights.to(device),\n",
    "    compute_metrics = compute_metrics\n",
    ")"
   ]
  },
  {
   "cell_type": "code",
   "execution_count": 16,
   "metadata": {
    "scrolled": true
   },
   "outputs": [],
   "source": [
    "# trainer.compute_metrics = compute_metrics"
   ]
  },
  {
   "cell_type": "code",
   "execution_count": 17,
   "metadata": {},
   "outputs": [
    {
     "name": "stderr",
     "output_type": "stream",
     "text": [
      "Failed to detect the name of this notebook, you can set it manually with the WANDB_NOTEBOOK_NAME environment variable to enable code saving.\n",
      "\u001b[34m\u001b[1mwandb\u001b[0m: Currently logged in as: \u001b[33msharad-dargan\u001b[0m (\u001b[33ma-is-all-we-need\u001b[0m). Use \u001b[1m`wandb login --relogin`\u001b[0m to force relogin\n"
     ]
    },
    {
     "data": {
      "text/html": [
       "wandb version 0.17.0 is available!  To upgrade, please run:\n",
       " $ pip install wandb --upgrade"
      ],
      "text/plain": [
       "<IPython.core.display.HTML object>"
      ]
     },
     "metadata": {},
     "output_type": "display_data"
    },
    {
     "data": {
      "text/html": [
       "Tracking run with wandb version 0.16.0"
      ],
      "text/plain": [
       "<IPython.core.display.HTML object>"
      ]
     },
     "metadata": {},
     "output_type": "display_data"
    },
    {
     "data": {
      "text/html": [
       "Run data is saved locally in <code>/scratch/sd5251/NLU/Cross-Lingual-Transfer-mBERT/hate-speech/wandb/run-20240511_172718-zhp6dyub</code>"
      ],
      "text/plain": [
       "<IPython.core.display.HTML object>"
      ]
     },
     "metadata": {},
     "output_type": "display_data"
    },
    {
     "data": {
      "text/html": [
       "Syncing run <strong><a href='https://wandb.ai/a-is-all-we-need/huggingface/runs/zhp6dyub' target=\"_blank\">rural-disco-259</a></strong> to <a href='https://wandb.ai/a-is-all-we-need/huggingface' target=\"_blank\">Weights & Biases</a> (<a href='https://wandb.me/run' target=\"_blank\">docs</a>)<br/>"
      ],
      "text/plain": [
       "<IPython.core.display.HTML object>"
      ]
     },
     "metadata": {},
     "output_type": "display_data"
    },
    {
     "data": {
      "text/html": [
       " View project at <a href='https://wandb.ai/a-is-all-we-need/huggingface' target=\"_blank\">https://wandb.ai/a-is-all-we-need/huggingface</a>"
      ],
      "text/plain": [
       "<IPython.core.display.HTML object>"
      ]
     },
     "metadata": {},
     "output_type": "display_data"
    },
    {
     "data": {
      "text/html": [
       " View run at <a href='https://wandb.ai/a-is-all-we-need/huggingface/runs/zhp6dyub' target=\"_blank\">https://wandb.ai/a-is-all-we-need/huggingface/runs/zhp6dyub</a>"
      ],
      "text/plain": [
       "<IPython.core.display.HTML object>"
      ]
     },
     "metadata": {},
     "output_type": "display_data"
    },
    {
     "data": {
      "text/html": [
       "\n",
       "    <div>\n",
       "      \n",
       "      <progress value='2400' max='2400' style='width:300px; height:20px; vertical-align: middle;'></progress>\n",
       "      [2400/2400 08:17, Epoch 3/3]\n",
       "    </div>\n",
       "    <table border=\"1\" class=\"dataframe\">\n",
       "  <thead>\n",
       " <tr style=\"text-align: left;\">\n",
       "      <th>Step</th>\n",
       "      <th>Training Loss</th>\n",
       "      <th>Validation Loss</th>\n",
       "      <th>F1</th>\n",
       "      <th>Accuracy</th>\n",
       "    </tr>\n",
       "  </thead>\n",
       "  <tbody>\n",
       "    <tr>\n",
       "      <td>50</td>\n",
       "      <td>0.632400</td>\n",
       "      <td>0.457244</td>\n",
       "      <td>0.000000</td>\n",
       "      <td>0.691875</td>\n",
       "    </tr>\n",
       "    <tr>\n",
       "      <td>100</td>\n",
       "      <td>0.417400</td>\n",
       "      <td>0.352932</td>\n",
       "      <td>0.292096</td>\n",
       "      <td>0.742500</td>\n",
       "    </tr>\n",
       "    <tr>\n",
       "      <td>150</td>\n",
       "      <td>0.348500</td>\n",
       "      <td>0.275787</td>\n",
       "      <td>0.640646</td>\n",
       "      <td>0.833125</td>\n",
       "    </tr>\n",
       "    <tr>\n",
       "      <td>200</td>\n",
       "      <td>0.300000</td>\n",
       "      <td>0.261137</td>\n",
       "      <td>0.713198</td>\n",
       "      <td>0.858750</td>\n",
       "    </tr>\n",
       "    <tr>\n",
       "      <td>250</td>\n",
       "      <td>0.251200</td>\n",
       "      <td>0.228810</td>\n",
       "      <td>0.856557</td>\n",
       "      <td>0.912500</td>\n",
       "    </tr>\n",
       "    <tr>\n",
       "      <td>300</td>\n",
       "      <td>0.202000</td>\n",
       "      <td>0.253333</td>\n",
       "      <td>0.783848</td>\n",
       "      <td>0.886250</td>\n",
       "    </tr>\n",
       "    <tr>\n",
       "      <td>350</td>\n",
       "      <td>0.298100</td>\n",
       "      <td>0.343674</td>\n",
       "      <td>0.616420</td>\n",
       "      <td>0.821875</td>\n",
       "    </tr>\n",
       "    <tr>\n",
       "      <td>400</td>\n",
       "      <td>0.251000</td>\n",
       "      <td>0.220448</td>\n",
       "      <td>0.832976</td>\n",
       "      <td>0.902500</td>\n",
       "    </tr>\n",
       "    <tr>\n",
       "      <td>450</td>\n",
       "      <td>0.210900</td>\n",
       "      <td>0.262163</td>\n",
       "      <td>0.788288</td>\n",
       "      <td>0.882500</td>\n",
       "    </tr>\n",
       "    <tr>\n",
       "      <td>500</td>\n",
       "      <td>0.235800</td>\n",
       "      <td>0.215548</td>\n",
       "      <td>0.831364</td>\n",
       "      <td>0.901875</td>\n",
       "    </tr>\n",
       "    <tr>\n",
       "      <td>550</td>\n",
       "      <td>0.256400</td>\n",
       "      <td>0.223361</td>\n",
       "      <td>0.744010</td>\n",
       "      <td>0.873125</td>\n",
       "    </tr>\n",
       "    <tr>\n",
       "      <td>600</td>\n",
       "      <td>0.249500</td>\n",
       "      <td>0.202360</td>\n",
       "      <td>0.735632</td>\n",
       "      <td>0.870625</td>\n",
       "    </tr>\n",
       "    <tr>\n",
       "      <td>650</td>\n",
       "      <td>0.213200</td>\n",
       "      <td>0.195813</td>\n",
       "      <td>0.754717</td>\n",
       "      <td>0.878125</td>\n",
       "    </tr>\n",
       "    <tr>\n",
       "      <td>700</td>\n",
       "      <td>0.207900</td>\n",
       "      <td>0.234670</td>\n",
       "      <td>0.792317</td>\n",
       "      <td>0.891875</td>\n",
       "    </tr>\n",
       "    <tr>\n",
       "      <td>750</td>\n",
       "      <td>0.212800</td>\n",
       "      <td>0.232084</td>\n",
       "      <td>0.847128</td>\n",
       "      <td>0.901875</td>\n",
       "    </tr>\n",
       "    <tr>\n",
       "      <td>800</td>\n",
       "      <td>0.189000</td>\n",
       "      <td>0.166710</td>\n",
       "      <td>0.861202</td>\n",
       "      <td>0.920625</td>\n",
       "    </tr>\n",
       "    <tr>\n",
       "      <td>850</td>\n",
       "      <td>0.175400</td>\n",
       "      <td>0.227472</td>\n",
       "      <td>0.863054</td>\n",
       "      <td>0.913125</td>\n",
       "    </tr>\n",
       "    <tr>\n",
       "      <td>900</td>\n",
       "      <td>0.176000</td>\n",
       "      <td>0.165404</td>\n",
       "      <td>0.881391</td>\n",
       "      <td>0.927500</td>\n",
       "    </tr>\n",
       "    <tr>\n",
       "      <td>950</td>\n",
       "      <td>0.135000</td>\n",
       "      <td>0.220981</td>\n",
       "      <td>0.817330</td>\n",
       "      <td>0.902500</td>\n",
       "    </tr>\n",
       "    <tr>\n",
       "      <td>1000</td>\n",
       "      <td>0.199900</td>\n",
       "      <td>0.179810</td>\n",
       "      <td>0.864529</td>\n",
       "      <td>0.918125</td>\n",
       "    </tr>\n",
       "    <tr>\n",
       "      <td>1050</td>\n",
       "      <td>0.138800</td>\n",
       "      <td>0.195188</td>\n",
       "      <td>0.831257</td>\n",
       "      <td>0.906875</td>\n",
       "    </tr>\n",
       "    <tr>\n",
       "      <td>1100</td>\n",
       "      <td>0.120800</td>\n",
       "      <td>0.185565</td>\n",
       "      <td>0.882716</td>\n",
       "      <td>0.928750</td>\n",
       "    </tr>\n",
       "    <tr>\n",
       "      <td>1150</td>\n",
       "      <td>0.203800</td>\n",
       "      <td>0.146127</td>\n",
       "      <td>0.872364</td>\n",
       "      <td>0.928125</td>\n",
       "    </tr>\n",
       "    <tr>\n",
       "      <td>1200</td>\n",
       "      <td>0.170800</td>\n",
       "      <td>0.174828</td>\n",
       "      <td>0.827346</td>\n",
       "      <td>0.906875</td>\n",
       "    </tr>\n",
       "    <tr>\n",
       "      <td>1250</td>\n",
       "      <td>0.112700</td>\n",
       "      <td>0.193632</td>\n",
       "      <td>0.884298</td>\n",
       "      <td>0.930000</td>\n",
       "    </tr>\n",
       "    <tr>\n",
       "      <td>1300</td>\n",
       "      <td>0.147500</td>\n",
       "      <td>0.181102</td>\n",
       "      <td>0.888192</td>\n",
       "      <td>0.933125</td>\n",
       "    </tr>\n",
       "    <tr>\n",
       "      <td>1350</td>\n",
       "      <td>0.134300</td>\n",
       "      <td>0.170692</td>\n",
       "      <td>0.828306</td>\n",
       "      <td>0.907500</td>\n",
       "    </tr>\n",
       "    <tr>\n",
       "      <td>1400</td>\n",
       "      <td>0.126700</td>\n",
       "      <td>0.193179</td>\n",
       "      <td>0.885947</td>\n",
       "      <td>0.930000</td>\n",
       "    </tr>\n",
       "    <tr>\n",
       "      <td>1450</td>\n",
       "      <td>0.148000</td>\n",
       "      <td>0.159076</td>\n",
       "      <td>0.850917</td>\n",
       "      <td>0.918750</td>\n",
       "    </tr>\n",
       "    <tr>\n",
       "      <td>1500</td>\n",
       "      <td>0.120200</td>\n",
       "      <td>0.146068</td>\n",
       "      <td>0.890063</td>\n",
       "      <td>0.935000</td>\n",
       "    </tr>\n",
       "    <tr>\n",
       "      <td>1550</td>\n",
       "      <td>0.148600</td>\n",
       "      <td>0.159735</td>\n",
       "      <td>0.887992</td>\n",
       "      <td>0.930625</td>\n",
       "    </tr>\n",
       "    <tr>\n",
       "      <td>1600</td>\n",
       "      <td>0.137400</td>\n",
       "      <td>0.149555</td>\n",
       "      <td>0.877040</td>\n",
       "      <td>0.929375</td>\n",
       "    </tr>\n",
       "    <tr>\n",
       "      <td>1650</td>\n",
       "      <td>0.079200</td>\n",
       "      <td>0.232491</td>\n",
       "      <td>0.879276</td>\n",
       "      <td>0.925000</td>\n",
       "    </tr>\n",
       "    <tr>\n",
       "      <td>1700</td>\n",
       "      <td>0.100600</td>\n",
       "      <td>0.187707</td>\n",
       "      <td>0.890020</td>\n",
       "      <td>0.932500</td>\n",
       "    </tr>\n",
       "    <tr>\n",
       "      <td>1750</td>\n",
       "      <td>0.091000</td>\n",
       "      <td>0.192900</td>\n",
       "      <td>0.884574</td>\n",
       "      <td>0.933125</td>\n",
       "    </tr>\n",
       "    <tr>\n",
       "      <td>1800</td>\n",
       "      <td>0.066000</td>\n",
       "      <td>0.180144</td>\n",
       "      <td>0.892178</td>\n",
       "      <td>0.936250</td>\n",
       "    </tr>\n",
       "    <tr>\n",
       "      <td>1850</td>\n",
       "      <td>0.076300</td>\n",
       "      <td>0.159079</td>\n",
       "      <td>0.889831</td>\n",
       "      <td>0.935000</td>\n",
       "    </tr>\n",
       "    <tr>\n",
       "      <td>1900</td>\n",
       "      <td>0.084000</td>\n",
       "      <td>0.167087</td>\n",
       "      <td>0.898129</td>\n",
       "      <td>0.938750</td>\n",
       "    </tr>\n",
       "    <tr>\n",
       "      <td>1950</td>\n",
       "      <td>0.074900</td>\n",
       "      <td>0.171564</td>\n",
       "      <td>0.891775</td>\n",
       "      <td>0.937500</td>\n",
       "    </tr>\n",
       "    <tr>\n",
       "      <td>2000</td>\n",
       "      <td>0.093800</td>\n",
       "      <td>0.164312</td>\n",
       "      <td>0.901758</td>\n",
       "      <td>0.940625</td>\n",
       "    </tr>\n",
       "    <tr>\n",
       "      <td>2050</td>\n",
       "      <td>0.086100</td>\n",
       "      <td>0.154578</td>\n",
       "      <td>0.893796</td>\n",
       "      <td>0.936875</td>\n",
       "    </tr>\n",
       "    <tr>\n",
       "      <td>2100</td>\n",
       "      <td>0.071700</td>\n",
       "      <td>0.160809</td>\n",
       "      <td>0.900105</td>\n",
       "      <td>0.940625</td>\n",
       "    </tr>\n",
       "    <tr>\n",
       "      <td>2150</td>\n",
       "      <td>0.115300</td>\n",
       "      <td>0.153526</td>\n",
       "      <td>0.903226</td>\n",
       "      <td>0.941875</td>\n",
       "    </tr>\n",
       "    <tr>\n",
       "      <td>2200</td>\n",
       "      <td>0.072700</td>\n",
       "      <td>0.153429</td>\n",
       "      <td>0.900315</td>\n",
       "      <td>0.940625</td>\n",
       "    </tr>\n",
       "    <tr>\n",
       "      <td>2250</td>\n",
       "      <td>0.063700</td>\n",
       "      <td>0.161655</td>\n",
       "      <td>0.896186</td>\n",
       "      <td>0.938750</td>\n",
       "    </tr>\n",
       "    <tr>\n",
       "      <td>2300</td>\n",
       "      <td>0.082300</td>\n",
       "      <td>0.162617</td>\n",
       "      <td>0.896842</td>\n",
       "      <td>0.938750</td>\n",
       "    </tr>\n",
       "    <tr>\n",
       "      <td>2350</td>\n",
       "      <td>0.060700</td>\n",
       "      <td>0.162571</td>\n",
       "      <td>0.899787</td>\n",
       "      <td>0.941250</td>\n",
       "    </tr>\n",
       "    <tr>\n",
       "      <td>2400</td>\n",
       "      <td>0.062900</td>\n",
       "      <td>0.162044</td>\n",
       "      <td>0.900958</td>\n",
       "      <td>0.941875</td>\n",
       "    </tr>\n",
       "  </tbody>\n",
       "</table><p>"
      ],
      "text/plain": [
       "<IPython.core.display.HTML object>"
      ]
     },
     "metadata": {},
     "output_type": "display_data"
    },
    {
     "data": {
      "text/plain": [
       "TrainOutput(global_step=2400, training_loss=0.1698529193798701, metrics={'train_runtime': 524.3606, 'train_samples_per_second': 73.186, 'train_steps_per_second': 4.577, 'total_flos': 2918707381549440.0, 'train_loss': 0.1698529193798701, 'epoch': 3.0})"
      ]
     },
     "execution_count": 17,
     "metadata": {},
     "output_type": "execute_result"
    }
   ],
   "source": [
    "trainer.train()"
   ]
  },
  {
   "cell_type": "code",
   "execution_count": 18,
   "metadata": {},
   "outputs": [],
   "source": [
    "trainer.save_model('./results/mbert_ft_english_hate_speech/model')"
   ]
  },
  {
   "cell_type": "markdown",
   "metadata": {},
   "source": [
    "## Evaluation"
   ]
  },
  {
   "cell_type": "code",
   "execution_count": 19,
   "metadata": {},
   "outputs": [
    {
     "data": {
      "image/png": "[encoded data removed]",
      "text/plain": [
       "<Figure size 900x300 with 2 Axes>"
      ]
     },
     "metadata": {},
     "output_type": "display_data"
    }
   ],
   "source": [
    "train_loss_df = pd.DataFrame(trainer.state.log_history[0:-1:2])\n",
    "eval_loss_df = pd.DataFrame(trainer.state.log_history[1::2])\n",
    "\n",
    "fig, axs = plt.subplots(1,2,figsize=(9,3), gridspec_kw={\"wspace\":0.35})\n",
    "axs[0].plot(train_loss_df[\"step\"], train_loss_df[\"loss\"], color='steelblue', lw=2, label=\"Train\")\n",
    "axs[0].plot(eval_loss_df[\"step\"], eval_loss_df[\"eval_loss\"], color='tomato', lw=2, label=\"Val\")\n",
    "axs[0].set_xlabel(\"Train Step\", labelpad=7)\n",
    "axs[0].set_ylabel(\"Loss\", labelpad=7)\n",
    "axs[0].legend(frameon=False)\n",
    "axs[0].spines[\"top\"].set_visible(False)\n",
    "axs[0].spines[\"right\"].set_visible(False)\n",
    "axs[0].grid(axis='y')\n",
    "\n",
    "axs[1].plot(eval_loss_df[\"step\"], eval_loss_df[\"eval_f1\"], color='tomato', lw=2)\n",
    "axs[1].set_xlabel(\"Train Step\", labelpad=7)\n",
    "axs[1].set_ylabel(\"Validation F1 score\", labelpad=7)\n",
    "axs[1].spines[\"top\"].set_visible(False)\n",
    "axs[1].spines[\"right\"].set_visible(False)\n",
    "axs[1].grid(axis='x')\n",
    "\n",
    "plt.grid()\n",
    "plt.show()"
   ]
  },
  {
   "cell_type": "markdown",
   "metadata": {},
   "source": [
    "### Test Results"
   ]
  },
  {
   "cell_type": "code",
   "execution_count": 20,
   "metadata": {},
   "outputs": [
    {
     "data": {
      "text/html": [],
      "text/plain": [
       "<IPython.core.display.HTML object>"
      ]
     },
     "metadata": {},
     "output_type": "display_data"
    },
    {
     "data": {
      "text/plain": [
       "{'test_loss': 1.1549137830734253,\n",
       " 'test_f1': 0.686965811965812,\n",
       " 'test_accuracy': 0.6771349862258953,\n",
       " 'test_runtime': 3.8649,\n",
       " 'test_samples_per_second': 469.616,\n",
       " 'test_steps_per_second': 29.497}"
      ]
     },
     "execution_count": 20,
     "metadata": {},
     "output_type": "execute_result"
    }
   ],
   "source": [
    "test_preds = trainer.predict(test_dataset)\n",
    "test_preds.metrics"
   ]
  },
  {
   "cell_type": "code",
   "execution_count": null,
   "metadata": {},
   "outputs": [],
   "source": [
    "# 0-Religion, 1-Gender, 2-Race, 3-Politics, 4-Sports"
   ]
  },
  {
   "cell_type": "code",
   "execution_count": 26,
   "metadata": {},
   "outputs": [
    {
     "data": {
      "text/html": [],
      "text/plain": [
       "<IPython.core.display.HTML object>"
      ]
     },
     "metadata": {},
     "output_type": "display_data"
    },
    {
     "data": {
      "text/plain": [
       "{'test_loss': 1.6182122230529785,\n",
       " 'test_f1': 0.703125,\n",
       " 'test_accuracy': 0.6122448979591837,\n",
       " 'test_runtime': 0.6209,\n",
       " 'test_samples_per_second': 473.481,\n",
       " 'test_steps_per_second': 30.599}"
      ]
     },
     "execution_count": 26,
     "metadata": {},
     "output_type": "execute_result"
    }
   ],
   "source": [
    "religion_test_df = test_df[test_df[\"TopicID\"]==0]\n",
    "religion_test_encodings = tokenizer(religion_test_df['tweet_text'].tolist(), padding=True, truncation=True, max_length=512, return_tensors=\"pt\")\n",
    "religion_test_dataset = HSDataset(religion_test_encodings, religion_test_df['HateLabel'].tolist())\n",
    "\n",
    "religion_test_preds = trainer.predict(religion_test_dataset)\n",
    "religion_test_preds.metrics"
   ]
  },
  {
   "cell_type": "code",
   "execution_count": 27,
   "metadata": {},
   "outputs": [
    {
     "data": {
      "text/html": [],
      "text/plain": [
       "<IPython.core.display.HTML object>"
      ]
     },
     "metadata": {},
     "output_type": "display_data"
    },
    {
     "data": {
      "text/plain": [
       "{'test_loss': 0.44933292269706726,\n",
       " 'test_f1': 0.4186046511627907,\n",
       " 'test_accuracy': 0.8226950354609929,\n",
       " 'test_runtime': 0.5114,\n",
       " 'test_samples_per_second': 551.47,\n",
       " 'test_steps_per_second': 35.2}"
      ]
     },
     "execution_count": 27,
     "metadata": {},
     "output_type": "execute_result"
    }
   ],
   "source": [
    "gender_test_df = test_df[test_df[\"TopicID\"]==1]\n",
    "gender_test_encodings = tokenizer(gender_test_df['tweet_text'].tolist(), padding=True, truncation=True, max_length=512, return_tensors=\"pt\")\n",
    "gender_test_dataset = HSDataset(gender_test_encodings, gender_test_df['HateLabel'].tolist())\n",
    "\n",
    "gender_test_preds = trainer.predict(gender_test_dataset)\n",
    "gender_test_preds.metrics"
   ]
  },
  {
   "cell_type": "code",
   "execution_count": 28,
   "metadata": {},
   "outputs": [
    {
     "data": {
      "text/html": [],
      "text/plain": [
       "<IPython.core.display.HTML object>"
      ]
     },
     "metadata": {},
     "output_type": "display_data"
    },
    {
     "data": {
      "text/plain": [
       "{'test_loss': 1.150854468345642,\n",
       " 'test_f1': 0.6685082872928176,\n",
       " 'test_accuracy': 0.67828418230563,\n",
       " 'test_runtime': 0.7802,\n",
       " 'test_samples_per_second': 478.069,\n",
       " 'test_steps_per_second': 30.76}"
      ]
     },
     "execution_count": 28,
     "metadata": {},
     "output_type": "execute_result"
    }
   ],
   "source": [
    "race_test_df = test_df[test_df[\"TopicID\"]==2]\n",
    "race_test_encodings = tokenizer(race_test_df['tweet_text'].tolist(), padding=True, truncation=True, max_length=512, return_tensors=\"pt\")\n",
    "race_test_dataset = HSDataset(race_test_encodings, race_test_df['HateLabel'].tolist())\n",
    "\n",
    "race_test_preds = trainer.predict(race_test_dataset)\n",
    "race_test_preds.metrics"
   ]
  },
  {
   "cell_type": "code",
   "execution_count": 29,
   "metadata": {},
   "outputs": [
    {
     "data": {
      "text/html": [],
      "text/plain": [
       "<IPython.core.display.HTML object>"
      ]
     },
     "metadata": {},
     "output_type": "display_data"
    },
    {
     "data": {
      "text/plain": [
       "{'test_loss': 0.7654979825019836,\n",
       " 'test_f1': 0.6768558951965066,\n",
       " 'test_accuracy': 0.6768558951965066,\n",
       " 'test_runtime': 0.9967,\n",
       " 'test_samples_per_second': 459.497,\n",
       " 'test_steps_per_second': 29.095}"
      ]
     },
     "execution_count": 29,
     "metadata": {},
     "output_type": "execute_result"
    }
   ],
   "source": [
    "politics_test_df = test_df[test_df[\"TopicID\"]==3]\n",
    "politics_test_encodings = tokenizer(politics_test_df['tweet_text'].tolist(), padding=True, truncation=True, max_length=512, return_tensors=\"pt\")\n",
    "politics_test_dataset = HSDataset(politics_test_encodings, politics_test_df['HateLabel'].tolist())\n",
    "\n",
    "politics_test_preds = trainer.predict(politics_test_dataset)\n",
    "politics_test_preds.metrics"
   ]
  },
  {
   "cell_type": "code",
   "execution_count": 30,
   "metadata": {},
   "outputs": [
    {
     "data": {
      "text/html": [],
      "text/plain": [
       "<IPython.core.display.HTML object>"
      ]
     },
     "metadata": {},
     "output_type": "display_data"
    },
    {
     "data": {
      "text/plain": [
       "{'test_loss': 1.8777689933776855,\n",
       " 'test_f1': 0.7353951890034364,\n",
       " 'test_accuracy': 0.6225490196078431,\n",
       " 'test_runtime': 0.7513,\n",
       " 'test_samples_per_second': 543.069,\n",
       " 'test_steps_per_second': 34.607}"
      ]
     },
     "execution_count": 30,
     "metadata": {},
     "output_type": "execute_result"
    }
   ],
   "source": [
    "sports_test_df = test_df[test_df[\"TopicID\"]==4]\n",
    "sports_test_encodings = tokenizer(sports_test_df['tweet_text'].tolist(), padding=True, truncation=True, max_length=512, return_tensors=\"pt\")\n",
    "sports_test_dataset = HSDataset(sports_test_encodings, sports_test_df['HateLabel'].tolist())\n",
    "\n",
    "sports_test_preds = trainer.predict(sports_test_dataset)\n",
    "sports_test_preds.metrics"
   ]
  },
  {
   "cell_type": "code",
   "execution_count": null,
   "metadata": {},
   "outputs": [],
   "source": []
  }
 ],
 "metadata": {
  "kernelspec": {
   "display_name": "OWL (Steve Bottos)",
   "language": "python",
   "name": "owl_boto"
  },
  "language_info": {
   "codemirror_mode": {
    "name": "ipython",
    "version": 3
   },
   "file_extension": ".py",
   "mimetype": "text/x-python",
   "name": "python",
   "nbconvert_exporter": "python",
   "pygments_lexer": "ipython3",
   "version": "3.10.13"
  }
 },
 "nbformat": 4,
 "nbformat_minor": 4
}
